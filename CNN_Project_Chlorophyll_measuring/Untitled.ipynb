{
 "cells": [
  {
   "cell_type": "code",
   "execution_count": 3,
   "id": "449f9660",
   "metadata": {
    "ExecuteTime": {
     "end_time": "2024-09-06T09:53:49.615828Z",
     "start_time": "2024-09-06T09:53:49.520240Z"
    }
   },
   "outputs": [
    {
     "ename": "FileNotFoundError",
     "evalue": "[Errno 2] No such file or directory: '/train/train_chlorophyll_level.txt'",
     "output_type": "error",
     "traceback": [
      "\u001b[0;31m---------------------------------------------------------------------------\u001b[0m",
      "\u001b[0;31mFileNotFoundError\u001b[0m                         Traceback (most recent call last)",
      "Cell \u001b[0;32mIn[3], line 56\u001b[0m\n\u001b[1;32m     53\u001b[0m     \u001b[38;5;28;01mreturn\u001b[39;00m df\n\u001b[1;32m     55\u001b[0m \u001b[38;5;66;03m# Example usage\u001b[39;00m\n\u001b[0;32m---> 56\u001b[0m df \u001b[38;5;241m=\u001b[39m create_dataframe(image_dir, chlorophyll_file)\n\u001b[1;32m     58\u001b[0m \u001b[38;5;66;03m# Display the DataFrame\u001b[39;00m\n\u001b[1;32m     59\u001b[0m \u001b[38;5;28mprint\u001b[39m(df\u001b[38;5;241m.\u001b[39mhead())\n",
      "Cell \u001b[0;32mIn[3], line 29\u001b[0m, in \u001b[0;36mcreate_dataframe\u001b[0;34m(image_dir, chlorophyll_file)\u001b[0m\n\u001b[1;32m     28\u001b[0m \u001b[38;5;28;01mdef\u001b[39;00m \u001b[38;5;21mcreate_dataframe\u001b[39m(image_dir, chlorophyll_file):\n\u001b[0;32m---> 29\u001b[0m     chlorophyll_values \u001b[38;5;241m=\u001b[39m load_chlorophyll_values(chlorophyll_file)\n\u001b[1;32m     31\u001b[0m     image_data \u001b[38;5;241m=\u001b[39m []\n\u001b[1;32m     32\u001b[0m     values \u001b[38;5;241m=\u001b[39m []\n",
      "Cell \u001b[0;32mIn[3], line 14\u001b[0m, in \u001b[0;36mload_chlorophyll_values\u001b[0;34m(file_path)\u001b[0m\n\u001b[1;32m     12\u001b[0m \u001b[38;5;28;01mdef\u001b[39;00m \u001b[38;5;21mload_chlorophyll_values\u001b[39m(file_path):\n\u001b[1;32m     13\u001b[0m     chlorophyll_dict \u001b[38;5;241m=\u001b[39m {}\n\u001b[0;32m---> 14\u001b[0m     \u001b[38;5;28;01mwith\u001b[39;00m \u001b[38;5;28mopen\u001b[39m(file_path, \u001b[38;5;124m'\u001b[39m\u001b[38;5;124mr\u001b[39m\u001b[38;5;124m'\u001b[39m) \u001b[38;5;28;01mas\u001b[39;00m file:\n\u001b[1;32m     15\u001b[0m         \u001b[38;5;28;01mfor\u001b[39;00m line \u001b[38;5;129;01min\u001b[39;00m file:\n\u001b[1;32m     16\u001b[0m             img_name, value \u001b[38;5;241m=\u001b[39m line\u001b[38;5;241m.\u001b[39mstrip()\u001b[38;5;241m.\u001b[39msplit()\n",
      "File \u001b[0;32m~/anaconda3/lib/python3.11/site-packages/IPython/core/interactiveshell.py:324\u001b[0m, in \u001b[0;36m_modified_open\u001b[0;34m(file, *args, **kwargs)\u001b[0m\n\u001b[1;32m    317\u001b[0m \u001b[38;5;28;01mif\u001b[39;00m file \u001b[38;5;129;01min\u001b[39;00m {\u001b[38;5;241m0\u001b[39m, \u001b[38;5;241m1\u001b[39m, \u001b[38;5;241m2\u001b[39m}:\n\u001b[1;32m    318\u001b[0m     \u001b[38;5;28;01mraise\u001b[39;00m \u001b[38;5;167;01mValueError\u001b[39;00m(\n\u001b[1;32m    319\u001b[0m         \u001b[38;5;124mf\u001b[39m\u001b[38;5;124m\"\u001b[39m\u001b[38;5;124mIPython won\u001b[39m\u001b[38;5;124m'\u001b[39m\u001b[38;5;124mt let you open fd=\u001b[39m\u001b[38;5;132;01m{\u001b[39;00mfile\u001b[38;5;132;01m}\u001b[39;00m\u001b[38;5;124m by default \u001b[39m\u001b[38;5;124m\"\u001b[39m\n\u001b[1;32m    320\u001b[0m         \u001b[38;5;124m\"\u001b[39m\u001b[38;5;124mas it is likely to crash IPython. If you know what you are doing, \u001b[39m\u001b[38;5;124m\"\u001b[39m\n\u001b[1;32m    321\u001b[0m         \u001b[38;5;124m\"\u001b[39m\u001b[38;5;124myou can use builtins\u001b[39m\u001b[38;5;124m'\u001b[39m\u001b[38;5;124m open.\u001b[39m\u001b[38;5;124m\"\u001b[39m\n\u001b[1;32m    322\u001b[0m     )\n\u001b[0;32m--> 324\u001b[0m \u001b[38;5;28;01mreturn\u001b[39;00m io_open(file, \u001b[38;5;241m*\u001b[39margs, \u001b[38;5;241m*\u001b[39m\u001b[38;5;241m*\u001b[39mkwargs)\n",
      "\u001b[0;31mFileNotFoundError\u001b[0m: [Errno 2] No such file or directory: '/train/train_chlorophyll_level.txt'"
     ]
    }
   ],
   "source": [
    "import pandas as pd\n",
    "import numpy as np\n",
    "from keras.preprocessing.image import load_img, img_to_array\n",
    "import os\n",
    "\n",
    "# Define paths and image dimensions\n",
    "image_dir = '/train/cropped_images'  # Replace with your image directory path\n",
    "chlorophyll_file = '/train/train_chlorophyll_level.txt'  # Replace with your chlorophyll values file path\n",
    "img_height, img_width = 128, 128  # Replace with your target image size\n",
    "\n",
    "# Load chlorophyll values from the text file\n",
    "def load_chlorophyll_values(file_path):\n",
    "    chlorophyll_dict = {}\n",
    "    with open(file_path, 'r') as file:\n",
    "        for line in file:\n",
    "            img_name, value = line.strip().split()\n",
    "            chlorophyll_dict[img_name] = float(value)\n",
    "    return chlorophyll_dict\n",
    "\n",
    "# Function to preprocess a single image\n",
    "def preprocess_image(img_path):\n",
    "    img = load_img(img_path, target_size=(img_height, img_width))\n",
    "    img_array = img_to_array(img)\n",
    "    img_array = img_array / 255.0  # Normalize to [0, 1]\n",
    "    return img_array\n",
    "\n",
    "# Create a DataFrame from images and their chlorophyll values\n",
    "def create_dataframe(image_dir, chlorophyll_file):\n",
    "    chlorophyll_values = load_chlorophyll_values(chlorophyll_file)\n",
    "    \n",
    "    image_data = []\n",
    "    values = []\n",
    "    \n",
    "    for img_filename, value in chlorophyll_values.items():\n",
    "        img_path = os.path.join(image_dir, img_filename)\n",
    "        if os.path.exists(img_path):\n",
    "            img_array = preprocess_image(img_path)\n",
    "            image_data.append(img_array)\n",
    "            values.append(value)\n",
    "        else:\n",
    "            print(f\"Warning: Image file {img_filename} not found.\")\n",
    "    \n",
    "    # Convert lists to numpy arrays\n",
    "    X = np.array(image_data)\n",
    "    y = np.array(values)\n",
    "    \n",
    "    # Create a DataFrame\n",
    "    df = pd.DataFrame({\n",
    "        'Image': list(X),  # Store image arrays as list entries\n",
    "        'Chlorophyll': y\n",
    "    })\n",
    "    \n",
    "    return df\n",
    "\n",
    "# Example usage\n",
    "df = create_dataframe(image_dir, chlorophyll_file)\n",
    "\n",
    "# Display the DataFrame\n",
    "print(df.head())\n"
   ]
  },
  {
   "cell_type": "code",
   "execution_count": null,
   "id": "6bb7a13a",
   "metadata": {},
   "outputs": [],
   "source": []
  }
 ],
 "metadata": {
  "hide_input": false,
  "kernelspec": {
   "display_name": "Python 3 (ipykernel)",
   "language": "python",
   "name": "python3"
  },
  "language_info": {
   "codemirror_mode": {
    "name": "ipython",
    "version": 3
   },
   "file_extension": ".py",
   "mimetype": "text/x-python",
   "name": "python",
   "nbconvert_exporter": "python",
   "pygments_lexer": "ipython3",
   "version": "3.11.8"
  },
  "toc": {
   "base_numbering": 1,
   "nav_menu": {},
   "number_sections": true,
   "sideBar": true,
   "skip_h1_title": false,
   "title_cell": "Table of Contents",
   "title_sidebar": "Contents",
   "toc_cell": false,
   "toc_position": {},
   "toc_section_display": true,
   "toc_window_display": false
  }
 },
 "nbformat": 4,
 "nbformat_minor": 5
}
