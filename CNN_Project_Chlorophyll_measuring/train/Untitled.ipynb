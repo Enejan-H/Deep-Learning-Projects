{
 "cells": [
  {
   "cell_type": "code",
   "execution_count": 6,
   "id": "449f9660",
   "metadata": {
    "ExecuteTime": {
     "end_time": "2024-09-06T12:04:58.569802Z",
     "start_time": "2024-09-06T12:04:53.170455Z"
    }
   },
   "outputs": [
    {
     "data": {
      "text/html": [
       "<div>\n",
       "<style scoped>\n",
       "    .dataframe tbody tr th:only-of-type {\n",
       "        vertical-align: middle;\n",
       "    }\n",
       "\n",
       "    .dataframe tbody tr th {\n",
       "        vertical-align: top;\n",
       "    }\n",
       "\n",
       "    .dataframe thead th {\n",
       "        text-align: right;\n",
       "    }\n",
       "</style>\n",
       "<table border=\"1\" class=\"dataframe\">\n",
       "  <thead>\n",
       "    <tr style=\"text-align: right;\">\n",
       "      <th></th>\n",
       "      <th>Image</th>\n",
       "      <th>Chlorophyll</th>\n",
       "    </tr>\n",
       "  </thead>\n",
       "  <tbody>\n",
       "    <tr>\n",
       "      <th>0</th>\n",
       "      <td>[[[0.4, 0.5058824, 0.3372549], [0.45490196, 0....</td>\n",
       "      <td>447.2</td>\n",
       "    </tr>\n",
       "    <tr>\n",
       "      <th>1</th>\n",
       "      <td>[[[0.36078432, 0.39607844, 0.28235295], [0.317...</td>\n",
       "      <td>394.2</td>\n",
       "    </tr>\n",
       "    <tr>\n",
       "      <th>2</th>\n",
       "      <td>[[[0.37254903, 0.3254902, 0.2784314], [0.39215...</td>\n",
       "      <td>341.2</td>\n",
       "    </tr>\n",
       "    <tr>\n",
       "      <th>3</th>\n",
       "      <td>[[[0.050980393, 0.03529412, 0.03137255], [0.04...</td>\n",
       "      <td>428.0</td>\n",
       "    </tr>\n",
       "    <tr>\n",
       "      <th>4</th>\n",
       "      <td>[[[0.26666668, 0.22745098, 0.19215687], [0.298...</td>\n",
       "      <td>416.2</td>\n",
       "    </tr>\n",
       "  </tbody>\n",
       "</table>\n",
       "</div>"
      ],
      "text/plain": [
       "                                               Image  Chlorophyll\n",
       "0  [[[0.4, 0.5058824, 0.3372549], [0.45490196, 0....        447.2\n",
       "1  [[[0.36078432, 0.39607844, 0.28235295], [0.317...        394.2\n",
       "2  [[[0.37254903, 0.3254902, 0.2784314], [0.39215...        341.2\n",
       "3  [[[0.050980393, 0.03529412, 0.03137255], [0.04...        428.0\n",
       "4  [[[0.26666668, 0.22745098, 0.19215687], [0.298...        416.2"
      ]
     },
     "execution_count": 6,
     "metadata": {},
     "output_type": "execute_result"
    }
   ],
   "source": [
    "import pandas as pd\n",
    "import numpy as np\n",
    "from keras.preprocessing.image import load_img, img_to_array\n",
    "import os\n",
    "\n",
    "# Define paths and image dimensions\n",
    "image_dir = '/Users/enejanhayytjanova/Desktop/My Githup/Deep-Learning-Projects/CNN_Project_Chlorophyll_measuring/train/cropped_images'  # Replace with your image directory path\n",
    "chlorophyll_file = '/Users/enejanhayytjanova/Desktop/My Githup/Deep-Learning-Projects/CNN_Project_Chlorophyll_measuring/train/train_chlorophyll_level.txt'  # Replace with your chlorophyll values file path\n",
    "img_height, img_width = 128, 128  # Replace with your target image size\n",
    "\n",
    "# Load chlorophyll values from the text file\n",
    "def load_chlorophyll_values(file_path):\n",
    "    chlorophyll_dict = {}\n",
    "    with open(file_path, 'r') as file:\n",
    "        for line in file:\n",
    "            img_name, value = line.strip().split()\n",
    "            chlorophyll_dict[img_name] = float(value)\n",
    "    return chlorophyll_dict\n",
    "\n",
    "# Function to preprocess a single image\n",
    "def preprocess_image(img_path):\n",
    "    img = load_img(img_path, target_size=(img_height, img_width))\n",
    "    img_array = img_to_array(img)\n",
    "    img_array = img_array / 255.0  # Normalize to [0, 1]\n",
    "    return img_array\n",
    "\n",
    "# Create a DataFrame from images and their chlorophyll values\n",
    "def create_dataframe(image_dir, chlorophyll_file):\n",
    "    chlorophyll_values = load_chlorophyll_values(chlorophyll_file)\n",
    "    \n",
    "    image_data = []\n",
    "    values = []\n",
    "    \n",
    "    for img_filename, value in chlorophyll_values.items():\n",
    "        img_path = os.path.join(image_dir, img_filename + '.jpg')  # Assuming images are in .jpg format\n",
    "        if os.path.exists(img_path):\n",
    "            img_array = preprocess_image(img_path)\n",
    "            image_data.append(img_array)\n",
    "            values.append(value)\n",
    "        else:\n",
    "            print(f\"Warning: Image file {img_path} not found.\")\n",
    "    \n",
    "    # Convert lists to numpy arrays\n",
    "    X = np.array(image_data)\n",
    "    y = np.array(values)\n",
    "    \n",
    "    # Create a DataFrame\n",
    "    df_train = pd.DataFrame({\n",
    "        'Image': list(X),  # Store image arrays as list entries\n",
    "        'Chlorophyll': y\n",
    "    })\n",
    "    \n",
    "    return df_train\n",
    "\n",
    "# Example usage\n",
    "df_train = create_dataframe(image_dir, chlorophyll_file)\n",
    "\n",
    "# Display the DataFrame\n",
    "df_train.head()\n"
   ]
  },
  {
   "cell_type": "code",
   "execution_count": 11,
   "id": "6bb7a13a",
   "metadata": {
    "ExecuteTime": {
     "end_time": "2024-09-06T12:05:25.648914Z",
     "start_time": "2024-09-06T12:05:25.643223Z"
    }
   },
   "outputs": [
    {
     "data": {
      "text/plain": [
       "(160, 2)"
      ]
     },
     "execution_count": 11,
     "metadata": {},
     "output_type": "execute_result"
    }
   ],
   "source": [
    "df_train.shape"
   ]
  },
  {
   "cell_type": "code",
   "execution_count": 12,
   "id": "4c9524f7",
   "metadata": {
    "ExecuteTime": {
     "end_time": "2024-09-06T12:05:31.997145Z",
     "start_time": "2024-09-06T12:05:28.018499Z"
    }
   },
   "outputs": [
    {
     "data": {
      "text/html": [
       "<div>\n",
       "<style scoped>\n",
       "    .dataframe tbody tr th:only-of-type {\n",
       "        vertical-align: middle;\n",
       "    }\n",
       "\n",
       "    .dataframe tbody tr th {\n",
       "        vertical-align: top;\n",
       "    }\n",
       "\n",
       "    .dataframe thead th {\n",
       "        text-align: right;\n",
       "    }\n",
       "</style>\n",
       "<table border=\"1\" class=\"dataframe\">\n",
       "  <thead>\n",
       "    <tr style=\"text-align: right;\">\n",
       "      <th></th>\n",
       "      <th>Image</th>\n",
       "      <th>Chlorophyll</th>\n",
       "    </tr>\n",
       "  </thead>\n",
       "  <tbody>\n",
       "    <tr>\n",
       "      <th>0</th>\n",
       "      <td>[[[0.3764706, 0.43529412, 0.3137255], [0.45098...</td>\n",
       "      <td>381.0</td>\n",
       "    </tr>\n",
       "    <tr>\n",
       "      <th>1</th>\n",
       "      <td>[[[0.54901963, 0.46666667, 0.3529412], [0.4745...</td>\n",
       "      <td>370.7</td>\n",
       "    </tr>\n",
       "    <tr>\n",
       "      <th>2</th>\n",
       "      <td>[[[0.27058825, 0.23137255, 0.18431373], [0.231...</td>\n",
       "      <td>7.6</td>\n",
       "    </tr>\n",
       "    <tr>\n",
       "      <th>3</th>\n",
       "      <td>[[[0.1764706, 0.21176471, 0.14509805], [0.1725...</td>\n",
       "      <td>178.9</td>\n",
       "    </tr>\n",
       "    <tr>\n",
       "      <th>4</th>\n",
       "      <td>[[[0.5019608, 0.44313726, 0.28235295], [0.5450...</td>\n",
       "      <td>392.0</td>\n",
       "    </tr>\n",
       "  </tbody>\n",
       "</table>\n",
       "</div>"
      ],
      "text/plain": [
       "                                               Image  Chlorophyll\n",
       "0  [[[0.3764706, 0.43529412, 0.3137255], [0.45098...        381.0\n",
       "1  [[[0.54901963, 0.46666667, 0.3529412], [0.4745...        370.7\n",
       "2  [[[0.27058825, 0.23137255, 0.18431373], [0.231...          7.6\n",
       "3  [[[0.1764706, 0.21176471, 0.14509805], [0.1725...        178.9\n",
       "4  [[[0.5019608, 0.44313726, 0.28235295], [0.5450...        392.0"
      ]
     },
     "execution_count": 12,
     "metadata": {},
     "output_type": "execute_result"
    }
   ],
   "source": [
    "import pandas as pd\n",
    "import numpy as np\n",
    "from keras.preprocessing.image import load_img, img_to_array\n",
    "import os\n",
    "\n",
    "# Define paths and image dimensions\n",
    "image_dir = '/Users/enejanhayytjanova/Desktop/My Githup/Deep-Learning-Projects/CNN_Project_Chlorophyll_measuring/test/cropped_images'  # Replace with your image directory path\n",
    "chlorophyll_file = '/Users/enejanhayytjanova/Desktop/My Githup/Deep-Learning-Projects/CNN_Project_Chlorophyll_measuring/test/test_chlorophyll_level.txt'  # Replace with your chlorophyll values file path\n",
    "img_height, img_width = 128, 128  # Replace with your target image size\n",
    "\n",
    "# Load chlorophyll values from the text file\n",
    "def load_chlorophyll_values(file_path):\n",
    "    chlorophyll_dict = {}\n",
    "    with open(file_path, 'r') as file:\n",
    "        for line in file:\n",
    "            img_name, value = line.strip().split()\n",
    "            chlorophyll_dict[img_name] = float(value)\n",
    "    return chlorophyll_dict\n",
    "\n",
    "# Function to preprocess a single image\n",
    "def preprocess_image(img_path):\n",
    "    img = load_img(img_path, target_size=(img_height, img_width))\n",
    "    img_array = img_to_array(img)\n",
    "    img_array = img_array / 255.0  # Normalize to [0, 1]\n",
    "    return img_array\n",
    "\n",
    "# Create a DataFrame from images and their chlorophyll values\n",
    "def create_dataframe(image_dir, chlorophyll_file):\n",
    "    chlorophyll_values = load_chlorophyll_values(chlorophyll_file)\n",
    "    \n",
    "    image_data = []\n",
    "    values = []\n",
    "    \n",
    "    for img_filename, value in chlorophyll_values.items():\n",
    "        img_path = os.path.join(image_dir, img_filename + '.jpg')  # Assuming images are in .jpg format\n",
    "        if os.path.exists(img_path):\n",
    "            img_array = preprocess_image(img_path)\n",
    "            image_data.append(img_array)\n",
    "            values.append(value)\n",
    "        else:\n",
    "            print(f\"Warning: Image file {img_path} not found.\")\n",
    "    \n",
    "    # Convert lists to numpy arrays\n",
    "    X = np.array(image_data)\n",
    "    y = np.array(values)\n",
    "    \n",
    "    # Create a DataFrame\n",
    "    df_test = pd.DataFrame({\n",
    "        'Image': list(X),  # Store image arrays as list entries\n",
    "        'Chlorophyll': y\n",
    "    })\n",
    "    \n",
    "    return df_test\n",
    "\n",
    "# Example usage\n",
    "df_test = create_dataframe(image_dir, chlorophyll_file)\n",
    "\n",
    "# Display the DataFrame\n",
    "df_test.head()\n"
   ]
  },
  {
   "cell_type": "code",
   "execution_count": 13,
   "id": "784204ed",
   "metadata": {
    "ExecuteTime": {
     "end_time": "2024-09-06T12:05:31.999962Z",
     "start_time": "2024-09-06T12:05:31.998118Z"
    }
   },
   "outputs": [
    {
     "data": {
      "text/plain": [
       "(40, 2)"
      ]
     },
     "execution_count": 13,
     "metadata": {},
     "output_type": "execute_result"
    }
   ],
   "source": [
    "df_test.shape"
   ]
  },
  {
   "cell_type": "code",
   "execution_count": 14,
   "id": "6d45ff9b",
   "metadata": {
    "ExecuteTime": {
     "end_time": "2024-09-06T12:05:35.411882Z",
     "start_time": "2024-09-06T12:05:32.000536Z"
    }
   },
   "outputs": [
    {
     "data": {
      "text/html": [
       "<div>\n",
       "<style scoped>\n",
       "    .dataframe tbody tr th:only-of-type {\n",
       "        vertical-align: middle;\n",
       "    }\n",
       "\n",
       "    .dataframe tbody tr th {\n",
       "        vertical-align: top;\n",
       "    }\n",
       "\n",
       "    .dataframe thead th {\n",
       "        text-align: right;\n",
       "    }\n",
       "</style>\n",
       "<table border=\"1\" class=\"dataframe\">\n",
       "  <thead>\n",
       "    <tr style=\"text-align: right;\">\n",
       "      <th></th>\n",
       "      <th>Image</th>\n",
       "      <th>Chlorophyll</th>\n",
       "    </tr>\n",
       "  </thead>\n",
       "  <tbody>\n",
       "    <tr>\n",
       "      <th>0</th>\n",
       "      <td>[[[0.4, 0.5058824, 0.3372549], [0.45490196, 0....</td>\n",
       "      <td>447.2</td>\n",
       "    </tr>\n",
       "    <tr>\n",
       "      <th>1</th>\n",
       "      <td>[[[0.36078432, 0.39607844, 0.28235295], [0.317...</td>\n",
       "      <td>394.2</td>\n",
       "    </tr>\n",
       "    <tr>\n",
       "      <th>2</th>\n",
       "      <td>[[[0.37254903, 0.3254902, 0.2784314], [0.39215...</td>\n",
       "      <td>341.2</td>\n",
       "    </tr>\n",
       "    <tr>\n",
       "      <th>3</th>\n",
       "      <td>[[[0.050980393, 0.03529412, 0.03137255], [0.04...</td>\n",
       "      <td>428.0</td>\n",
       "    </tr>\n",
       "    <tr>\n",
       "      <th>4</th>\n",
       "      <td>[[[0.26666668, 0.22745098, 0.19215687], [0.298...</td>\n",
       "      <td>416.2</td>\n",
       "    </tr>\n",
       "  </tbody>\n",
       "</table>\n",
       "</div>"
      ],
      "text/plain": [
       "                                               Image  Chlorophyll\n",
       "0  [[[0.4, 0.5058824, 0.3372549], [0.45490196, 0....        447.2\n",
       "1  [[[0.36078432, 0.39607844, 0.28235295], [0.317...        394.2\n",
       "2  [[[0.37254903, 0.3254902, 0.2784314], [0.39215...        341.2\n",
       "3  [[[0.050980393, 0.03529412, 0.03137255], [0.04...        428.0\n",
       "4  [[[0.26666668, 0.22745098, 0.19215687], [0.298...        416.2"
      ]
     },
     "execution_count": 14,
     "metadata": {},
     "output_type": "execute_result"
    }
   ],
   "source": [
    "# Assuming df_train and df_test are already defined DataFrames\n",
    "# Concatenate df_train and df_test along rows (axis=0)\n",
    "df = pd.concat([df_train, df_test], axis=0, ignore_index=True)\n",
    "\n",
    "# Display the concatenated DataFrame\n",
    "df.head()"
   ]
  },
  {
   "cell_type": "code",
   "execution_count": 15,
   "id": "566dd87c",
   "metadata": {
    "ExecuteTime": {
     "end_time": "2024-09-06T12:05:35.414755Z",
     "start_time": "2024-09-06T12:05:35.413052Z"
    }
   },
   "outputs": [
    {
     "data": {
      "text/plain": [
       "(200, 2)"
      ]
     },
     "execution_count": 15,
     "metadata": {},
     "output_type": "execute_result"
    }
   ],
   "source": [
    "df.shape"
   ]
  },
  {
   "cell_type": "code",
   "execution_count": 17,
   "id": "84af4ef2",
   "metadata": {
    "ExecuteTime": {
     "end_time": "2024-09-06T12:06:34.472367Z",
     "start_time": "2024-09-06T12:06:34.466804Z"
    }
   },
   "outputs": [
    {
     "name": "stdout",
     "output_type": "stream",
     "text": [
      "(160,)\n",
      "(40,)\n",
      "(160,)\n",
      "(40,)\n",
      "<class 'numpy.ndarray'> <class 'numpy.ndarray'>\n"
     ]
    }
   ],
   "source": [
    "print(X_train.shape)  # Should be (num_samples, height, width, channels)\n",
    "print(X_test.shape)\n",
    "print(y_train.shape)  # Should be (num_samples,)\n",
    "print(y_test.shape)\n",
    "print(type(X_train), type(y_train))  # Ensure they are both NumPy arrays"
   ]
  },
  {
   "cell_type": "code",
   "execution_count": 33,
   "id": "6f76696c",
   "metadata": {
    "ExecuteTime": {
     "end_time": "2024-09-06T12:14:45.239543Z",
     "start_time": "2024-09-06T12:14:45.216768Z"
    }
   },
   "outputs": [
    {
     "name": "stdout",
     "output_type": "stream",
     "text": [
      "(160, 128, 128, 3)\n",
      "(40, 128, 128, 3)\n"
     ]
    }
   ],
   "source": [
    "# Assuming images are 64x64 with 3 channels (RGB)\n",
    "X_train = np.stack(X_train)  # Stack to convert to (160, height, width, channels)\n",
    "X_test = np.stack(X_test)\n",
    "\n",
    "print(X_train.shape)  # Should now be (160, 64, 64, 3) if images are 64x64 with 3 channels\n",
    "print(X_test.shape)"
   ]
  },
  {
   "cell_type": "code",
   "execution_count": 34,
   "id": "70b747eb",
   "metadata": {
    "ExecuteTime": {
     "end_time": "2024-09-06T12:14:45.953802Z",
     "start_time": "2024-09-06T12:14:45.932568Z"
    }
   },
   "outputs": [],
   "source": [
    "X_train = X_train / 255.0\n",
    "X_test = X_test / 255.0"
   ]
  },
  {
   "cell_type": "code",
   "execution_count": 35,
   "id": "a2920f34",
   "metadata": {
    "ExecuteTime": {
     "end_time": "2024-09-06T12:14:49.304872Z",
     "start_time": "2024-09-06T12:14:49.299833Z"
    }
   },
   "outputs": [],
   "source": [
    "y_train = np.array(y_train, dtype=np.float32)\n",
    "y_test = np.array(y_test, dtype=np.float32)"
   ]
  },
  {
   "cell_type": "code",
   "execution_count": 36,
   "id": "e891ba59",
   "metadata": {
    "ExecuteTime": {
     "end_time": "2024-09-06T12:14:49.978563Z",
     "start_time": "2024-09-06T12:14:49.974524Z"
    }
   },
   "outputs": [],
   "source": [
    "if len(y_train.shape) == 2 and y_train.shape[1] == 1:\n",
    "    y_train = y_train.reshape(-1)\n",
    "if len(y_test.shape) == 2 and y_test.shape[1] == 1:\n",
    "    y_test = y_test.reshape(-1)"
   ]
  },
  {
   "cell_type": "code",
   "execution_count": 37,
   "id": "a9e84ca2",
   "metadata": {
    "ExecuteTime": {
     "end_time": "2024-09-06T12:14:50.991629Z",
     "start_time": "2024-09-06T12:14:50.986471Z"
    }
   },
   "outputs": [
    {
     "name": "stdout",
     "output_type": "stream",
     "text": [
      "(160,) (40,)\n",
      "<class 'numpy.ndarray'> <class 'numpy.ndarray'>\n"
     ]
    }
   ],
   "source": [
    "print(y_train.shape, y_test.shape)  # Should both be (num_samples,)\n",
    "print(type(y_train), type(y_test))  # Should both be <class 'numpy.ndarray'>"
   ]
  },
  {
   "cell_type": "code",
   "execution_count": 38,
   "id": "4322852b",
   "metadata": {
    "ExecuteTime": {
     "end_time": "2024-09-06T12:14:54.133262Z",
     "start_time": "2024-09-06T12:14:54.128035Z"
    }
   },
   "outputs": [
    {
     "name": "stdout",
     "output_type": "stream",
     "text": [
      "False\n",
      "False\n"
     ]
    }
   ],
   "source": [
    "print(np.isnan(y_train).any())  # Should return False\n",
    "print(np.isnan(y_test).any())   # Should return False"
   ]
  },
  {
   "cell_type": "code",
   "execution_count": 39,
   "id": "efa4b89d",
   "metadata": {
    "ExecuteTime": {
     "end_time": "2024-09-06T12:14:55.676989Z",
     "start_time": "2024-09-06T12:14:55.664200Z"
    },
    "scrolled": false
   },
   "outputs": [
    {
     "name": "stdout",
     "output_type": "stream",
     "text": [
      "[337.9 606.2 451.1 612.6 613.6]\n",
      "[[[[4.89564158e-08 4.13882759e-08 3.21646034e-08]\n",
      "   [4.84834075e-08 4.04422593e-08 3.14550910e-08]\n",
      "   [4.09152676e-08 3.33471277e-08 2.36504434e-08]\n",
      "   ...\n",
      "   [4.77738951e-08 4.13882759e-08 3.12185868e-08]\n",
      "   [4.68278785e-08 4.11517718e-08 3.07455785e-08]\n",
      "   [4.61183660e-08 4.04422593e-08 3.00360625e-08]]\n",
      "\n",
      "  [[4.89564158e-08 4.13882759e-08 3.21646034e-08]\n",
      "   [4.75373909e-08 3.94962427e-08 3.05090744e-08]\n",
      "   [4.11517718e-08 3.35836319e-08 2.43599558e-08]\n",
      "   ...\n",
      "   [4.58818619e-08 4.04422593e-08 3.00360625e-08]\n",
      "   [4.42263257e-08 3.87867267e-08 2.83805317e-08]\n",
      "   [4.30438050e-08 3.73677018e-08 2.69615050e-08]]\n",
      "\n",
      "  [[4.84834075e-08 4.09152676e-08 3.12185868e-08]\n",
      "   [4.56453577e-08 3.80772143e-08 2.88535418e-08]\n",
      "   [3.94962427e-08 3.19280993e-08 2.29409309e-08]\n",
      "   ...\n",
      "   [4.13882759e-08 3.64216852e-08 2.57789843e-08]\n",
      "   [3.90232309e-08 3.40566402e-08 2.34139392e-08]\n",
      "   [3.61851811e-08 3.12185868e-08 2.10488942e-08]]\n",
      "\n",
      "  ...\n",
      "\n",
      "  [[3.99692510e-08 2.60154884e-08 2.27044268e-08]\n",
      "   [3.78407101e-08 2.41234517e-08 2.08123900e-08]\n",
      "   [3.87867267e-08 2.48329641e-08 2.15219025e-08]\n",
      "   ...\n",
      "   [4.39898216e-08 3.59486769e-08 1.22982300e-08]\n",
      "   [4.44628299e-08 3.64216852e-08 1.27712401e-08]\n",
      "   [4.87199117e-08 4.11517718e-08 1.48997792e-08]]\n",
      "\n",
      "  [[3.85502226e-08 2.45964600e-08 2.12853983e-08]\n",
      "   [3.66581894e-08 2.29409309e-08 2.01028776e-08]\n",
      "   [3.80772143e-08 2.48329641e-08 2.17584066e-08]\n",
      "   ...\n",
      "   [4.18612842e-08 3.38201360e-08 1.01696909e-08]\n",
      "   [4.28073008e-08 3.45296485e-08 9.93318672e-09]\n",
      "   [4.65913743e-08 3.90232309e-08 1.32442484e-08]]\n",
      "\n",
      "  [[3.90232309e-08 2.53059742e-08 2.19949108e-08]\n",
      "   [3.68946935e-08 2.31774351e-08 1.98663734e-08]\n",
      "   [3.76042060e-08 2.50694683e-08 2.17584066e-08]\n",
      "   ...\n",
      "   [4.13882759e-08 3.33471277e-08 9.69668168e-09]\n",
      "   [4.37533174e-08 3.59486769e-08 1.06426992e-08]\n",
      "   [4.75373909e-08 3.94962427e-08 1.39537617e-08]]]\n",
      "\n",
      "\n",
      " [[[3.52391645e-08 2.95630542e-08 2.15219025e-08]\n",
      "   [3.99692510e-08 3.38201360e-08 2.60154884e-08]\n",
      "   [3.97327469e-08 3.35836319e-08 2.53059742e-08]\n",
      "   ...\n",
      "   [3.54756686e-08 2.48329641e-08 1.51362851e-08]\n",
      "   [4.32803091e-08 3.26376117e-08 2.27044268e-08]\n",
      "   [4.37533174e-08 3.31106236e-08 2.34139392e-08]]\n",
      "\n",
      "  [[3.90232309e-08 3.28741159e-08 2.50694683e-08]\n",
      "   [4.02057552e-08 3.33471277e-08 2.53059742e-08]\n",
      "   [4.06787635e-08 3.38201360e-08 2.57789843e-08]\n",
      "   ...\n",
      "   [3.12185868e-08 2.17584066e-08 1.32442484e-08]\n",
      "   [4.20977884e-08 3.14550910e-08 2.17584066e-08]\n",
      "   [4.16247801e-08 3.12185868e-08 2.19949108e-08]]\n",
      "\n",
      "  [[3.92597386e-08 3.31106236e-08 2.53059742e-08]\n",
      "   [4.16247801e-08 3.47661526e-08 2.67250009e-08]\n",
      "   [4.06787635e-08 3.38201360e-08 2.57789843e-08]\n",
      "   ...\n",
      "   [3.26376117e-08 2.36504434e-08 1.51362851e-08]\n",
      "   [4.25707967e-08 3.21646034e-08 2.29409309e-08]\n",
      "   [4.09152676e-08 3.05090744e-08 2.12853983e-08]]\n",
      "\n",
      "  ...\n",
      "\n",
      "  [[7.80464671e-09 5.67610670e-09 4.02057543e-09]\n",
      "   [8.75066419e-09 6.62212418e-09 4.49358462e-09]\n",
      "   [8.98716923e-09 7.33163752e-09 4.96659336e-09]\n",
      "   ...\n",
      "   [4.13882759e-08 3.42931443e-08 2.57789843e-08]\n",
      "   [4.23342925e-08 3.52391645e-08 2.67250009e-08]\n",
      "   [3.97327469e-08 3.35836319e-08 2.53059742e-08]]\n",
      "\n",
      "  [[6.14911499e-09 4.49358462e-09 3.07455750e-09]\n",
      "   [6.62212418e-09 4.96659336e-09 3.07455750e-09]\n",
      "   [8.51416004e-09 6.85862833e-09 4.96659336e-09]\n",
      "   ...\n",
      "   [4.20977884e-08 3.50026568e-08 2.64884967e-08]\n",
      "   [4.39898216e-08 3.61851811e-08 2.79075234e-08]\n",
      "   [3.97327469e-08 3.28741159e-08 2.48329641e-08]]\n",
      "\n",
      "  [[6.38562003e-09 5.20309751e-09 3.78407128e-09]\n",
      "   [5.43960166e-09 4.25708002e-09 2.83805335e-09]\n",
      "   [5.91261085e-09 4.73008877e-09 3.31106209e-09]\n",
      "   ...\n",
      "   [4.18612842e-08 3.47661526e-08 2.62519926e-08]\n",
      "   [4.39898216e-08 3.61851811e-08 2.79075234e-08]\n",
      "   [4.23342925e-08 3.45296485e-08 2.62519926e-08]]]\n",
      "\n",
      "\n",
      " [[[1.67918159e-08 2.03393817e-08 1.01696909e-08]\n",
      "   [1.65553118e-08 1.96298693e-08 8.75066419e-09]\n",
      "   [1.48997792e-08 1.86838509e-08 7.09513293e-09]\n",
      "   ...\n",
      "   [2.69615050e-08 3.47661526e-08 2.79075234e-08]\n",
      "   [2.53059742e-08 3.40566402e-08 2.67250009e-08]\n",
      "   [2.81440276e-08 3.64216852e-08 2.64884967e-08]]\n",
      "\n",
      "  [[1.60823017e-08 2.03393817e-08 1.08792033e-08]\n",
      "   [1.58457976e-08 1.98663734e-08 9.22367338e-09]\n",
      "   [1.44267709e-08 1.86838509e-08 7.33163752e-09]\n",
      "   ...\n",
      "   [2.62519926e-08 3.45296485e-08 2.74345133e-08]\n",
      "   [2.48329641e-08 3.40566402e-08 2.67250009e-08]\n",
      "   [2.86170376e-08 3.68946935e-08 2.69615050e-08]]\n",
      "\n",
      "  [[1.56092934e-08 1.98663734e-08 1.08792033e-08]\n",
      "   [1.58457976e-08 1.98663734e-08 9.93318672e-09]\n",
      "   [1.53727893e-08 1.93933634e-08 8.98716923e-09]\n",
      "   ...\n",
      "   [2.57789843e-08 3.42931443e-08 2.76710193e-08]\n",
      "   [2.55424801e-08 3.38201360e-08 2.62519926e-08]\n",
      "   [2.95630542e-08 3.73677018e-08 2.71980092e-08]]\n",
      "\n",
      "  ...\n",
      "\n",
      "  [[1.30077442e-08 1.13522134e-08 7.56814256e-09]\n",
      "   [1.56092934e-08 1.37172567e-08 9.22367338e-09]\n",
      "   [1.65553118e-08 1.39537617e-08 9.69668168e-09]\n",
      "   ...\n",
      "   [8.75066419e-09 7.56814256e-09 6.14911499e-09]\n",
      "   [5.91261085e-09 4.73008877e-09 4.02057543e-09]\n",
      "   [1.65553105e-09 1.41902667e-09 9.46017820e-10]]\n",
      "\n",
      "  [[1.37172567e-08 1.15887175e-08 7.56814256e-09]\n",
      "   [1.53727893e-08 1.34807525e-08 8.98716923e-09]\n",
      "   [1.70283201e-08 1.39537617e-08 9.46017753e-09]\n",
      "   ...\n",
      "   [1.06426992e-08 8.98716923e-09 7.09513293e-09]\n",
      "   [7.09513293e-09 5.91261085e-09 4.96659336e-09]\n",
      "   [3.31106209e-09 2.36504438e-09 1.65553105e-09]]\n",
      "\n",
      "  [[1.30077442e-08 1.11157075e-08 6.62212418e-09]\n",
      "   [1.53727893e-08 1.27712401e-08 8.51416004e-09]\n",
      "   [1.72648242e-08 1.41902659e-08 9.69668168e-09]\n",
      "   ...\n",
      "   [1.18252217e-08 1.01696909e-08 7.80464671e-09]\n",
      "   [9.22367338e-09 8.04115086e-09 6.62212418e-09]\n",
      "   [7.80464671e-09 6.62212418e-09 5.20309751e-09]]]\n",
      "\n",
      "\n",
      " [[[2.01028776e-08 2.17584066e-08 2.01028776e-08]\n",
      "   [2.64884967e-08 2.67250009e-08 2.29409309e-08]\n",
      "   [2.57789843e-08 2.50694683e-08 1.77378343e-08]\n",
      "   ...\n",
      "   [3.47661526e-08 3.94962427e-08 3.12185868e-08]\n",
      "   [3.92597386e-08 4.06787635e-08 3.26376117e-08]\n",
      "   [4.20977884e-08 4.13882759e-08 3.35836319e-08]]\n",
      "\n",
      "  [[1.75013284e-08 2.01028776e-08 1.86838509e-08]\n",
      "   [2.29409309e-08 2.48329641e-08 2.17584066e-08]\n",
      "   [2.62519926e-08 2.62519926e-08 2.05758859e-08]\n",
      "   ...\n",
      "   [3.42931443e-08 3.99692510e-08 3.19280993e-08]\n",
      "   [3.66581894e-08 3.92597386e-08 3.16915951e-08]\n",
      "   [3.83137184e-08 3.90232309e-08 3.16915951e-08]]\n",
      "\n",
      "  [[1.67918159e-08 1.93933634e-08 1.79743385e-08]\n",
      "   [2.03393817e-08 2.31774351e-08 2.08123900e-08]\n",
      "   [2.55424801e-08 2.64884967e-08 2.24679191e-08]\n",
      "   ...\n",
      "   [3.40566402e-08 4.04422593e-08 3.31106236e-08]\n",
      "   [3.40566402e-08 3.80772143e-08 3.05090744e-08]\n",
      "   [3.50026568e-08 3.66581894e-08 2.93265501e-08]]\n",
      "\n",
      "  ...\n",
      "\n",
      "  [[1.91568592e-08 2.43599558e-08 1.32442484e-08]\n",
      "   [1.65553118e-08 1.93933634e-08 1.08792033e-08]\n",
      "   [1.60823017e-08 1.65553118e-08 1.08792033e-08]\n",
      "   ...\n",
      "   [2.10488942e-08 1.65553118e-08 1.30077442e-08]\n",
      "   [1.86838509e-08 1.53727893e-08 1.22982300e-08]\n",
      "   [1.56092934e-08 1.27712401e-08 9.93318672e-09]]\n",
      "\n",
      "  [[1.89203551e-08 2.34139392e-08 1.25347341e-08]\n",
      "   [1.67918159e-08 1.91568592e-08 1.11157075e-08]\n",
      "   [1.53727893e-08 1.53727893e-08 9.69668168e-09]\n",
      "   ...\n",
      "   [2.17584066e-08 1.72648242e-08 1.37172567e-08]\n",
      "   [1.75013284e-08 1.41902659e-08 1.15887175e-08]\n",
      "   [1.41902659e-08 1.18252217e-08 9.46017753e-09]]\n",
      "\n",
      "  [[1.86838509e-08 2.27044268e-08 1.22982300e-08]\n",
      "   [1.70283201e-08 1.86838509e-08 1.08792033e-08]\n",
      "   [1.67918159e-08 1.67918159e-08 1.01696909e-08]\n",
      "   ...\n",
      "   [2.12853983e-08 1.67918159e-08 1.32442484e-08]\n",
      "   [1.60823017e-08 1.32442484e-08 1.04061950e-08]\n",
      "   [1.34807525e-08 1.11157075e-08 8.75066419e-09]]]\n",
      "\n",
      "\n",
      " [[[5.27404893e-08 4.51723494e-08 3.16915951e-08]\n",
      "   [5.01389366e-08 4.30438050e-08 2.88535418e-08]\n",
      "   [5.03754443e-08 4.35168133e-08 2.97995584e-08]\n",
      "   ...\n",
      "   [6.38562003e-09 8.51416004e-09 4.49358462e-09]\n",
      "   [6.38562003e-09 8.51416004e-09 4.49358462e-09]\n",
      "   [6.62212418e-09 7.56814256e-09 3.54756646e-09]]\n",
      "\n",
      "  [[5.20309769e-08 4.42263257e-08 3.16915951e-08]\n",
      "   [4.84834075e-08 4.11517718e-08 2.76710193e-08]\n",
      "   [4.94294241e-08 4.20977884e-08 2.90900459e-08]\n",
      "   ...\n",
      "   [6.38562003e-09 8.04115086e-09 4.25708002e-09]\n",
      "   [6.62212418e-09 8.27765589e-09 4.49358462e-09]\n",
      "   [5.67610670e-09 6.62212418e-09 3.07455750e-09]]\n",
      "\n",
      "  [[4.80103992e-08 3.94962427e-08 2.81440276e-08]\n",
      "   [4.56453577e-08 3.78407101e-08 2.57789843e-08]\n",
      "   [4.63548702e-08 3.85502226e-08 2.64884967e-08]\n",
      "   ...\n",
      "   [5.91261085e-09 7.56814256e-09 3.78407128e-09]\n",
      "   [6.38562003e-09 7.33163752e-09 3.78407128e-09]\n",
      "   [4.96659336e-09 5.43960166e-09 2.12854001e-09]]\n",
      "\n",
      "  ...\n",
      "\n",
      "  [[3.26376117e-08 2.62519926e-08 1.91568592e-08]\n",
      "   [3.28741159e-08 2.64884967e-08 1.93933634e-08]\n",
      "   [3.76042060e-08 3.05090744e-08 2.24679191e-08]\n",
      "   ...\n",
      "   [2.71980092e-08 2.12853983e-08 1.41902659e-08]\n",
      "   [2.71980092e-08 2.12853983e-08 1.41902659e-08]\n",
      "   [2.67250009e-08 2.12853983e-08 1.39537617e-08]]\n",
      "\n",
      "  [[3.16915951e-08 2.55424801e-08 1.77378343e-08]\n",
      "   [3.33471277e-08 2.71980092e-08 1.93933634e-08]\n",
      "   [3.76042060e-08 3.07455785e-08 2.27044268e-08]\n",
      "   ...\n",
      "   [2.81440276e-08 2.22314149e-08 1.48997792e-08]\n",
      "   [2.86170376e-08 2.27044268e-08 1.56092934e-08]\n",
      "   [2.74345133e-08 2.19949108e-08 1.46632750e-08]]\n",
      "\n",
      "  [[3.50026568e-08 2.88535418e-08 2.01028776e-08]\n",
      "   [3.42931443e-08 2.86170376e-08 2.01028776e-08]\n",
      "   [3.80772143e-08 3.24011076e-08 2.38869475e-08]\n",
      "   ...\n",
      "   [2.97995584e-08 2.38869475e-08 1.65553118e-08]\n",
      "   [2.88535418e-08 2.34139392e-08 1.58457976e-08]\n",
      "   [2.79075234e-08 2.24679191e-08 1.51362851e-08]]]]\n"
     ]
    }
   ],
   "source": [
    "print(y_train[:5])  # Print the first 5 values of y_train to check correctness\n",
    "print(X_train[:5])  # Check the first 5 images' pixel data (ensure they're numeric and correctly formatted)"
   ]
  },
  {
   "cell_type": "code",
   "execution_count": 40,
   "id": "bbeb2474",
   "metadata": {
    "ExecuteTime": {
     "end_time": "2024-09-06T12:15:02.082963Z",
     "start_time": "2024-09-06T12:15:02.077977Z"
    }
   },
   "outputs": [
    {
     "name": "stdout",
     "output_type": "stream",
     "text": [
      "(160, 128, 128, 3)\n",
      "(40, 128, 128, 3)\n"
     ]
    }
   ],
   "source": [
    "print(X_train.shape)  # Should be (160, 128, 128, 3)\n",
    "print(X_test.shape)   # Should be (40, 128, 128, 3)"
   ]
  },
  {
   "cell_type": "code",
   "execution_count": 41,
   "id": "f6a06af0",
   "metadata": {
    "ExecuteTime": {
     "end_time": "2024-09-06T12:15:04.483132Z",
     "start_time": "2024-09-06T12:15:04.428131Z"
    }
   },
   "outputs": [
    {
     "data": {
      "text/html": [
       "<pre style=\"white-space:pre;overflow-x:auto;line-height:normal;font-family:Menlo,'DejaVu Sans Mono',consolas,'Courier New',monospace\"><span style=\"font-weight: bold\">Model: \"sequential_5\"</span>\n",
       "</pre>\n"
      ],
      "text/plain": [
       "\u001b[1mModel: \"sequential_5\"\u001b[0m\n"
      ]
     },
     "metadata": {},
     "output_type": "display_data"
    },
    {
     "data": {
      "text/html": [
       "<pre style=\"white-space:pre;overflow-x:auto;line-height:normal;font-family:Menlo,'DejaVu Sans Mono',consolas,'Courier New',monospace\">┏━━━━━━━━━━━━━━━━━━━━━━━━━━━━━━━━━┳━━━━━━━━━━━━━━━━━━━━━━━━┳━━━━━━━━━━━━━━━┓\n",
       "┃<span style=\"font-weight: bold\"> Layer (type)                    </span>┃<span style=\"font-weight: bold\"> Output Shape           </span>┃<span style=\"font-weight: bold\">       Param # </span>┃\n",
       "┡━━━━━━━━━━━━━━━━━━━━━━━━━━━━━━━━━╇━━━━━━━━━━━━━━━━━━━━━━━━╇━━━━━━━━━━━━━━━┩\n",
       "│ conv2d_10 (<span style=\"color: #0087ff; text-decoration-color: #0087ff\">Conv2D</span>)              │ (<span style=\"color: #00d7ff; text-decoration-color: #00d7ff\">None</span>, <span style=\"color: #00af00; text-decoration-color: #00af00\">126</span>, <span style=\"color: #00af00; text-decoration-color: #00af00\">126</span>, <span style=\"color: #00af00; text-decoration-color: #00af00\">32</span>)   │           <span style=\"color: #00af00; text-decoration-color: #00af00\">896</span> │\n",
       "├─────────────────────────────────┼────────────────────────┼───────────────┤\n",
       "│ max_pooling2d_10 (<span style=\"color: #0087ff; text-decoration-color: #0087ff\">MaxPooling2D</span>) │ (<span style=\"color: #00d7ff; text-decoration-color: #00d7ff\">None</span>, <span style=\"color: #00af00; text-decoration-color: #00af00\">63</span>, <span style=\"color: #00af00; text-decoration-color: #00af00\">63</span>, <span style=\"color: #00af00; text-decoration-color: #00af00\">32</span>)     │             <span style=\"color: #00af00; text-decoration-color: #00af00\">0</span> │\n",
       "├─────────────────────────────────┼────────────────────────┼───────────────┤\n",
       "│ conv2d_11 (<span style=\"color: #0087ff; text-decoration-color: #0087ff\">Conv2D</span>)              │ (<span style=\"color: #00d7ff; text-decoration-color: #00d7ff\">None</span>, <span style=\"color: #00af00; text-decoration-color: #00af00\">61</span>, <span style=\"color: #00af00; text-decoration-color: #00af00\">61</span>, <span style=\"color: #00af00; text-decoration-color: #00af00\">64</span>)     │        <span style=\"color: #00af00; text-decoration-color: #00af00\">18,496</span> │\n",
       "├─────────────────────────────────┼────────────────────────┼───────────────┤\n",
       "│ max_pooling2d_11 (<span style=\"color: #0087ff; text-decoration-color: #0087ff\">MaxPooling2D</span>) │ (<span style=\"color: #00d7ff; text-decoration-color: #00d7ff\">None</span>, <span style=\"color: #00af00; text-decoration-color: #00af00\">30</span>, <span style=\"color: #00af00; text-decoration-color: #00af00\">30</span>, <span style=\"color: #00af00; text-decoration-color: #00af00\">64</span>)     │             <span style=\"color: #00af00; text-decoration-color: #00af00\">0</span> │\n",
       "├─────────────────────────────────┼────────────────────────┼───────────────┤\n",
       "│ flatten_5 (<span style=\"color: #0087ff; text-decoration-color: #0087ff\">Flatten</span>)             │ (<span style=\"color: #00d7ff; text-decoration-color: #00d7ff\">None</span>, <span style=\"color: #00af00; text-decoration-color: #00af00\">57600</span>)          │             <span style=\"color: #00af00; text-decoration-color: #00af00\">0</span> │\n",
       "├─────────────────────────────────┼────────────────────────┼───────────────┤\n",
       "│ dense_10 (<span style=\"color: #0087ff; text-decoration-color: #0087ff\">Dense</span>)                │ (<span style=\"color: #00d7ff; text-decoration-color: #00d7ff\">None</span>, <span style=\"color: #00af00; text-decoration-color: #00af00\">128</span>)            │     <span style=\"color: #00af00; text-decoration-color: #00af00\">7,372,928</span> │\n",
       "├─────────────────────────────────┼────────────────────────┼───────────────┤\n",
       "│ dense_11 (<span style=\"color: #0087ff; text-decoration-color: #0087ff\">Dense</span>)                │ (<span style=\"color: #00d7ff; text-decoration-color: #00d7ff\">None</span>, <span style=\"color: #00af00; text-decoration-color: #00af00\">1</span>)              │           <span style=\"color: #00af00; text-decoration-color: #00af00\">129</span> │\n",
       "└─────────────────────────────────┴────────────────────────┴───────────────┘\n",
       "</pre>\n"
      ],
      "text/plain": [
       "┏━━━━━━━━━━━━━━━━━━━━━━━━━━━━━━━━━┳━━━━━━━━━━━━━━━━━━━━━━━━┳━━━━━━━━━━━━━━━┓\n",
       "┃\u001b[1m \u001b[0m\u001b[1mLayer (type)                   \u001b[0m\u001b[1m \u001b[0m┃\u001b[1m \u001b[0m\u001b[1mOutput Shape          \u001b[0m\u001b[1m \u001b[0m┃\u001b[1m \u001b[0m\u001b[1m      Param #\u001b[0m\u001b[1m \u001b[0m┃\n",
       "┡━━━━━━━━━━━━━━━━━━━━━━━━━━━━━━━━━╇━━━━━━━━━━━━━━━━━━━━━━━━╇━━━━━━━━━━━━━━━┩\n",
       "│ conv2d_10 (\u001b[38;5;33mConv2D\u001b[0m)              │ (\u001b[38;5;45mNone\u001b[0m, \u001b[38;5;34m126\u001b[0m, \u001b[38;5;34m126\u001b[0m, \u001b[38;5;34m32\u001b[0m)   │           \u001b[38;5;34m896\u001b[0m │\n",
       "├─────────────────────────────────┼────────────────────────┼───────────────┤\n",
       "│ max_pooling2d_10 (\u001b[38;5;33mMaxPooling2D\u001b[0m) │ (\u001b[38;5;45mNone\u001b[0m, \u001b[38;5;34m63\u001b[0m, \u001b[38;5;34m63\u001b[0m, \u001b[38;5;34m32\u001b[0m)     │             \u001b[38;5;34m0\u001b[0m │\n",
       "├─────────────────────────────────┼────────────────────────┼───────────────┤\n",
       "│ conv2d_11 (\u001b[38;5;33mConv2D\u001b[0m)              │ (\u001b[38;5;45mNone\u001b[0m, \u001b[38;5;34m61\u001b[0m, \u001b[38;5;34m61\u001b[0m, \u001b[38;5;34m64\u001b[0m)     │        \u001b[38;5;34m18,496\u001b[0m │\n",
       "├─────────────────────────────────┼────────────────────────┼───────────────┤\n",
       "│ max_pooling2d_11 (\u001b[38;5;33mMaxPooling2D\u001b[0m) │ (\u001b[38;5;45mNone\u001b[0m, \u001b[38;5;34m30\u001b[0m, \u001b[38;5;34m30\u001b[0m, \u001b[38;5;34m64\u001b[0m)     │             \u001b[38;5;34m0\u001b[0m │\n",
       "├─────────────────────────────────┼────────────────────────┼───────────────┤\n",
       "│ flatten_5 (\u001b[38;5;33mFlatten\u001b[0m)             │ (\u001b[38;5;45mNone\u001b[0m, \u001b[38;5;34m57600\u001b[0m)          │             \u001b[38;5;34m0\u001b[0m │\n",
       "├─────────────────────────────────┼────────────────────────┼───────────────┤\n",
       "│ dense_10 (\u001b[38;5;33mDense\u001b[0m)                │ (\u001b[38;5;45mNone\u001b[0m, \u001b[38;5;34m128\u001b[0m)            │     \u001b[38;5;34m7,372,928\u001b[0m │\n",
       "├─────────────────────────────────┼────────────────────────┼───────────────┤\n",
       "│ dense_11 (\u001b[38;5;33mDense\u001b[0m)                │ (\u001b[38;5;45mNone\u001b[0m, \u001b[38;5;34m1\u001b[0m)              │           \u001b[38;5;34m129\u001b[0m │\n",
       "└─────────────────────────────────┴────────────────────────┴───────────────┘\n"
      ]
     },
     "metadata": {},
     "output_type": "display_data"
    },
    {
     "data": {
      "text/html": [
       "<pre style=\"white-space:pre;overflow-x:auto;line-height:normal;font-family:Menlo,'DejaVu Sans Mono',consolas,'Courier New',monospace\"><span style=\"font-weight: bold\"> Total params: </span><span style=\"color: #00af00; text-decoration-color: #00af00\">7,392,449</span> (28.20 MB)\n",
       "</pre>\n"
      ],
      "text/plain": [
       "\u001b[1m Total params: \u001b[0m\u001b[38;5;34m7,392,449\u001b[0m (28.20 MB)\n"
      ]
     },
     "metadata": {},
     "output_type": "display_data"
    },
    {
     "data": {
      "text/html": [
       "<pre style=\"white-space:pre;overflow-x:auto;line-height:normal;font-family:Menlo,'DejaVu Sans Mono',consolas,'Courier New',monospace\"><span style=\"font-weight: bold\"> Trainable params: </span><span style=\"color: #00af00; text-decoration-color: #00af00\">7,392,449</span> (28.20 MB)\n",
       "</pre>\n"
      ],
      "text/plain": [
       "\u001b[1m Trainable params: \u001b[0m\u001b[38;5;34m7,392,449\u001b[0m (28.20 MB)\n"
      ]
     },
     "metadata": {},
     "output_type": "display_data"
    },
    {
     "data": {
      "text/html": [
       "<pre style=\"white-space:pre;overflow-x:auto;line-height:normal;font-family:Menlo,'DejaVu Sans Mono',consolas,'Courier New',monospace\"><span style=\"font-weight: bold\"> Non-trainable params: </span><span style=\"color: #00af00; text-decoration-color: #00af00\">0</span> (0.00 B)\n",
       "</pre>\n"
      ],
      "text/plain": [
       "\u001b[1m Non-trainable params: \u001b[0m\u001b[38;5;34m0\u001b[0m (0.00 B)\n"
      ]
     },
     "metadata": {},
     "output_type": "display_data"
    }
   ],
   "source": [
    "from keras.models import Sequential\n",
    "from keras.layers import Conv2D, MaxPooling2D, Flatten, Dense\n",
    "\n",
    "# Define the model architecture\n",
    "model = Sequential([\n",
    "    # First convolutional layer\n",
    "    Conv2D(32, (3, 3), activation='relu', input_shape=(128, 128, 3)),\n",
    "    MaxPooling2D(pool_size=(2, 2)),\n",
    "    \n",
    "    # Second convolutional layer\n",
    "    Conv2D(64, (3, 3), activation='relu'),\n",
    "    MaxPooling2D(pool_size=(2, 2)),\n",
    "\n",
    "    # Flattening the 3D feature maps to 1D feature vector\n",
    "    Flatten(),\n",
    "\n",
    "    # Fully connected layer\n",
    "    Dense(128, activation='relu'),\n",
    "    \n",
    "    # Output layer for regression (predicting a single value)\n",
    "    Dense(1)\n",
    "])\n",
    "\n",
    "# Compile the model for regression (using Mean Squared Error loss)\n",
    "model.compile(optimizer='adam', loss='mean_squared_error')\n",
    "\n",
    "# Print the model summary\n",
    "model.summary()\n"
   ]
  },
  {
   "cell_type": "code",
   "execution_count": 42,
   "id": "89681204",
   "metadata": {
    "ExecuteTime": {
     "end_time": "2024-09-06T12:15:14.104725Z",
     "start_time": "2024-09-06T12:15:07.324679Z"
    }
   },
   "outputs": [
    {
     "name": "stdout",
     "output_type": "stream",
     "text": [
      "Epoch 1/10\n",
      "\u001b[1m5/5\u001b[0m \u001b[32m━━━━━━━━━━━━━━━━━━━━\u001b[0m\u001b[37m\u001b[0m \u001b[1m1s\u001b[0m 138ms/step - loss: 193940.2656 - val_loss: 160979.7969\n",
      "Epoch 2/10\n",
      "\u001b[1m5/5\u001b[0m \u001b[32m━━━━━━━━━━━━━━━━━━━━\u001b[0m\u001b[37m\u001b[0m \u001b[1m1s\u001b[0m 127ms/step - loss: 185131.6250 - val_loss: 145966.1562\n",
      "Epoch 3/10\n",
      "\u001b[1m5/5\u001b[0m \u001b[32m━━━━━━━━━━━━━━━━━━━━\u001b[0m\u001b[37m\u001b[0m \u001b[1m1s\u001b[0m 123ms/step - loss: 167331.4531 - val_loss: 108282.7969\n",
      "Epoch 4/10\n",
      "\u001b[1m5/5\u001b[0m \u001b[32m━━━━━━━━━━━━━━━━━━━━\u001b[0m\u001b[37m\u001b[0m \u001b[1m1s\u001b[0m 121ms/step - loss: 126420.7500 - val_loss: 51328.3125\n",
      "Epoch 5/10\n",
      "\u001b[1m5/5\u001b[0m \u001b[32m━━━━━━━━━━━━━━━━━━━━\u001b[0m\u001b[37m\u001b[0m \u001b[1m1s\u001b[0m 120ms/step - loss: 52485.1328 - val_loss: 38893.8164\n",
      "Epoch 6/10\n",
      "\u001b[1m5/5\u001b[0m \u001b[32m━━━━━━━━━━━━━━━━━━━━\u001b[0m\u001b[37m\u001b[0m \u001b[1m1s\u001b[0m 124ms/step - loss: 44363.5312 - val_loss: 59959.8750\n",
      "Epoch 7/10\n",
      "\u001b[1m5/5\u001b[0m \u001b[32m━━━━━━━━━━━━━━━━━━━━\u001b[0m\u001b[37m\u001b[0m \u001b[1m1s\u001b[0m 120ms/step - loss: 50053.1094 - val_loss: 31479.2598\n",
      "Epoch 8/10\n",
      "\u001b[1m5/5\u001b[0m \u001b[32m━━━━━━━━━━━━━━━━━━━━\u001b[0m\u001b[37m\u001b[0m \u001b[1m1s\u001b[0m 121ms/step - loss: 37638.4883 - val_loss: 32079.8691\n",
      "Epoch 9/10\n",
      "\u001b[1m5/5\u001b[0m \u001b[32m━━━━━━━━━━━━━━━━━━━━\u001b[0m\u001b[37m\u001b[0m \u001b[1m1s\u001b[0m 124ms/step - loss: 41628.9062 - val_loss: 31660.7129\n",
      "Epoch 10/10\n",
      "\u001b[1m5/5\u001b[0m \u001b[32m━━━━━━━━━━━━━━━━━━━━\u001b[0m\u001b[37m\u001b[0m \u001b[1m1s\u001b[0m 122ms/step - loss: 43248.3477 - val_loss: 31337.4727\n"
     ]
    },
    {
     "data": {
      "text/plain": [
       "<keras.src.callbacks.history.History at 0x293bdfbd0>"
      ]
     },
     "execution_count": 42,
     "metadata": {},
     "output_type": "execute_result"
    }
   ],
   "source": [
    "model.fit(X_train, y_train, epochs=10, batch_size=32, validation_data=(X_test, y_test))"
   ]
  },
  {
   "cell_type": "code",
   "execution_count": 43,
   "id": "d8c63c1a",
   "metadata": {
    "ExecuteTime": {
     "end_time": "2024-09-06T12:15:36.545538Z",
     "start_time": "2024-09-06T12:15:36.445819Z"
    }
   },
   "outputs": [
    {
     "name": "stdout",
     "output_type": "stream",
     "text": [
      "\u001b[1m2/2\u001b[0m \u001b[32m━━━━━━━━━━━━━━━━━━━━\u001b[0m\u001b[37m\u001b[0m \u001b[1m0s\u001b[0m 11ms/step - loss: 30972.6055\n",
      "Test Loss (MSE): 31337.47265625\n"
     ]
    }
   ],
   "source": [
    "test_loss = model.evaluate(X_test, y_test)\n",
    "print(f'Test Loss (MSE): {test_loss}')"
   ]
  },
  {
   "cell_type": "code",
   "execution_count": 44,
   "id": "b6366bf4",
   "metadata": {
    "ExecuteTime": {
     "end_time": "2024-09-06T12:15:45.803382Z",
     "start_time": "2024-09-06T12:15:45.676807Z"
    }
   },
   "outputs": [
    {
     "name": "stdout",
     "output_type": "stream",
     "text": [
      "\u001b[1m2/2\u001b[0m \u001b[32m━━━━━━━━━━━━━━━━━━━━\u001b[0m\u001b[37m\u001b[0m \u001b[1m0s\u001b[0m 24ms/step\n"
     ]
    }
   ],
   "source": [
    "predictions = model.predict(X_test)"
   ]
  },
  {
   "cell_type": "code",
   "execution_count": 47,
   "id": "19645204",
   "metadata": {
    "ExecuteTime": {
     "end_time": "2024-09-06T12:17:14.047425Z",
     "start_time": "2024-09-06T12:17:08.010533Z"
    }
   },
   "outputs": [
    {
     "name": "stdout",
     "output_type": "stream",
     "text": [
      "Epoch 1/10\n",
      "\u001b[1m5/5\u001b[0m \u001b[32m━━━━━━━━━━━━━━━━━━━━\u001b[0m\u001b[37m\u001b[0m \u001b[1m1s\u001b[0m 124ms/step - loss: 37825.6133 - val_loss: 36404.3828\n",
      "Epoch 2/10\n",
      "\u001b[1m5/5\u001b[0m \u001b[32m━━━━━━━━━━━━━━━━━━━━\u001b[0m\u001b[37m\u001b[0m \u001b[1m1s\u001b[0m 123ms/step - loss: 39268.2578 - val_loss: 33528.9961\n",
      "Epoch 3/10\n",
      "\u001b[1m5/5\u001b[0m \u001b[32m━━━━━━━━━━━━━━━━━━━━\u001b[0m\u001b[37m\u001b[0m \u001b[1m1s\u001b[0m 119ms/step - loss: 33204.2344 - val_loss: 30892.9336\n",
      "Epoch 4/10\n",
      "\u001b[1m5/5\u001b[0m \u001b[32m━━━━━━━━━━━━━━━━━━━━\u001b[0m\u001b[37m\u001b[0m \u001b[1m1s\u001b[0m 119ms/step - loss: 36606.4883 - val_loss: 30643.1250\n",
      "Epoch 5/10\n",
      "\u001b[1m5/5\u001b[0m \u001b[32m━━━━━━━━━━━━━━━━━━━━\u001b[0m\u001b[37m\u001b[0m \u001b[1m1s\u001b[0m 119ms/step - loss: 37765.8477 - val_loss: 31703.9688\n",
      "Epoch 6/10\n",
      "\u001b[1m5/5\u001b[0m \u001b[32m━━━━━━━━━━━━━━━━━━━━\u001b[0m\u001b[37m\u001b[0m \u001b[1m1s\u001b[0m 119ms/step - loss: 38381.0781 - val_loss: 32809.4688\n",
      "Epoch 7/10\n",
      "\u001b[1m5/5\u001b[0m \u001b[32m━━━━━━━━━━━━━━━━━━━━\u001b[0m\u001b[37m\u001b[0m \u001b[1m1s\u001b[0m 119ms/step - loss: 37681.8633 - val_loss: 31626.3223\n",
      "Epoch 8/10\n",
      "\u001b[1m5/5\u001b[0m \u001b[32m━━━━━━━━━━━━━━━━━━━━\u001b[0m\u001b[37m\u001b[0m \u001b[1m1s\u001b[0m 119ms/step - loss: 36670.8086 - val_loss: 31347.3945\n",
      "Epoch 9/10\n",
      "\u001b[1m5/5\u001b[0m \u001b[32m━━━━━━━━━━━━━━━━━━━━\u001b[0m\u001b[37m\u001b[0m \u001b[1m1s\u001b[0m 118ms/step - loss: 39012.9141 - val_loss: 31887.0352\n",
      "Epoch 10/10\n",
      "\u001b[1m5/5\u001b[0m \u001b[32m━━━━━━━━━━━━━━━━━━━━\u001b[0m\u001b[37m\u001b[0m \u001b[1m1s\u001b[0m 118ms/step - loss: 37952.4805 - val_loss: 31814.5898\n"
     ]
    }
   ],
   "source": [
    "history = model.fit(X_train, y_train, epochs=10, batch_size=32, validation_data=(X_test, y_test))"
   ]
  },
  {
   "cell_type": "code",
   "execution_count": 48,
   "id": "bdf5bda5",
   "metadata": {
    "ExecuteTime": {
     "end_time": "2024-09-06T12:17:21.669175Z",
     "start_time": "2024-09-06T12:17:21.498438Z"
    }
   },
   "outputs": [
    {
     "data": {
      "image/png": "[encoded data removed]",
      "text/plain": [
       "<Figure size 1200x600 with 2 Axes>"
      ]
     },
     "metadata": {},
     "output_type": "display_data"
    }
   ],
   "source": [
    "import matplotlib.pyplot as plt\n",
    "\n",
    "# Extract history metrics\n",
    "loss = history.history['loss']\n",
    "val_loss = history.history['val_loss']\n",
    "\n",
    "# Plot training & validation loss values\n",
    "plt.figure(figsize=(12, 6))\n",
    "\n",
    "plt.subplot(1, 2, 1)\n",
    "plt.plot(loss, label='Training Loss')\n",
    "plt.plot(val_loss, label='Validation Loss')\n",
    "plt.xlabel('Epoch')\n",
    "plt.ylabel('Loss')\n",
    "plt.title('Model Loss')\n",
    "plt.legend()\n",
    "\n",
    "# Calculate MSE\n",
    "mse = [loss_value for loss_value in loss]\n",
    "val_mse = [val_loss_value for val_loss_value in val_loss]\n",
    "\n",
    "# Plot training & validation MSE values\n",
    "plt.subplot(1, 2, 2)\n",
    "plt.plot(mse, label='Training MSE')\n",
    "plt.plot(val_mse, label='Validation MSE')\n",
    "plt.xlabel('Epoch')\n",
    "plt.ylabel('MSE')\n",
    "plt.title('Model MSE')\n",
    "plt.legend()\n",
    "\n",
    "plt.tight_layout()\n",
    "plt.show()\n"
   ]
  },
  {
   "cell_type": "code",
   "execution_count": 49,
   "id": "c9b70431",
   "metadata": {
    "ExecuteTime": {
     "end_time": "2024-09-06T13:09:11.684175Z",
     "start_time": "2024-09-06T13:09:11.669585Z"
    }
   },
   "outputs": [
    {
     "name": "stdout",
     "output_type": "stream",
     "text": [
      "R² Score: -0.0248\n"
     ]
    }
   ],
   "source": [
    "from sklearn.metrics import r2_score\n",
    "\n",
    "# Calculate R² score\n",
    "r2 = r2_score(y_test, predictions)\n",
    "print(f'R² Score: {r2:.4f}')"
   ]
  },
  {
   "cell_type": "code",
   "execution_count": null,
   "id": "e74647bd",
   "metadata": {},
   "outputs": [],
   "source": []
  }
 ],
 "metadata": {
  "hide_input": false,
  "kernelspec": {
   "display_name": "Python 3 (ipykernel)",
   "language": "python",
   "name": "python3"
  },
  "language_info": {
   "codemirror_mode": {
    "name": "ipython",
    "version": 3
   },
   "file_extension": ".py",
   "mimetype": "text/x-python",
   "name": "python",
   "nbconvert_exporter": "python",
   "pygments_lexer": "ipython3",
   "version": "3.11.8"
  },
  "toc": {
   "base_numbering": 1,
   "nav_menu": {},
   "number_sections": true,
   "sideBar": true,
   "skip_h1_title": false,
   "title_cell": "Table of Contents",
   "title_sidebar": "Contents",
   "toc_cell": false,
   "toc_position": {},
   "toc_section_display": true,
   "toc_window_display": false
  }
 },
 "nbformat": 4,
 "nbformat_minor": 5
}
