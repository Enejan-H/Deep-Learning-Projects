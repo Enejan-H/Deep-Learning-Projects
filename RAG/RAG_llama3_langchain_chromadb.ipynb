{
 "cells": [
  {
   "cell_type": "markdown",
   "metadata": {
    "_cell_guid": "b1076dfc-b9ad-4769-8c92-a6c4dae69d19",
    "_uuid": "8f2839f25d086af736a60e9eeb907d3b93b6e0e5"
   },
   "source": [
    "# Introduction\n",
    "\n",
    "<center><img src=\"https://cdn.mos.cms.futurecdn.net/RNrVwVfRiyoKkrr8djHvf9-650-80.jpg.webp\"></center>\n",
    "<center><font color=\"BBBBBB\" size=2>(Image credit: Adobe Firefly - AI generated for Future, from Tom's guide)</font></center>\n",
    "\n",
    "## Objective\n",
    "\n",
    "Use Llama3 Langchain and ChromaDB to create a Retrieval Augmented Generation (RAG) system. This will allow us to ask questions about our documents (that were not included in the training data), without fine-tunning the Large Language Model (LLM).\n",
    "When using RAG, if you are given a question, you first do a retrieval step to fetch any relevant documents from a special database, a vector database where these documents were indexed. \n",
    "The data that we will use is the text of EU AI Act, approved on March 13, 2024.\n",
    "\n",
    "## Definitions\n",
    "\n",
    "* LLM - Large Language Model  \n",
    "* Llama3- LLM from Meta \n",
    "* Langchain - a framework designed to simplify the creation of applications using LLMs\n",
    "* Vector database - a database that organizes data through high-dimmensional vectors  \n",
    "* ChromaDB - vector database  \n",
    "* RAG - Retrieval Augmented Generation (see below more details about RAGs)\n",
    "\n",
    "## Model details\n",
    "\n",
    "* **Model**: Llama 3  \n",
    "* **Variation**: 8b-chat-hf  (8b: 8B dimm.; hf: HuggingFace)\n",
    "* **Version**: V1  \n",
    "* **Framework**: Transformers  \n",
    "\n",
    "Llama3 model is pretrained and fine-tuned with 15T+ (more than 15 Trillion) tokens and 8 to 70 Billion parameters which makes it one of the powerful open source models. It is a highly improvement over Llama2 model.\n",
    "\n",
    "\n",
    "## What is a Retrieval Augmented Generation (RAG) system?\n",
    "\n",
    "Large Language Models (LLMs) has proven their ability to understand context and provide accurate answers to various NLP tasks, including summarization, Q&A, when prompted. While being able to provide very good answers to questions about information that they were trained with, they tend to hallucinate when the topic is about information that they do \"not know\", i.e. was not included in their training data. Retrieval Augmented Generation combines external resources with LLMs. The main two components of a RAG are therefore a retriever and a generator.  \n",
    " \n",
    "The retriever part can be described as a system that is able to encode our data so that can be easily retrieved the relevant parts of it upon queriying it. The encoding is done using text embeddings, i.e. a model trained to create a vector representation of the information. The best option for implementing a retriever is a vector database. As vector database, there are multiple options, both open source or commercial products. Few examples are ChromaDB, Mevius, FAISS, Pinecone, Weaviate. Our option in this Notebook will be a local instance of ChromaDB (persistent).\n",
    "\n",
    "For the generator part, the obvious option is a LLM. In this Notebook we will use a quantized Llama3 model, from the Kaggle Models collection.  \n",
    "\n",
    "The orchestration of the retriever and generator will be done using Langchain. A specialized function from Langchain allows us to create the receiver-generator in one line of code.\n",
    "\n",
    "## The data \n",
    "\n",
    "The data that will be indexed in the vector database to make it searchable by the RAG system is the complete text of the European Union Artificial Intelligence Act. This is a European Union regulation on Artificial Intelligence (AI) in the European Union. Proposed by the European Commission on 21 April 2021, it was adopted on 13 March 2024. \n",
    "\n"
   ]
  },
  {
   "cell_type": "markdown",
   "metadata": {},
   "source": [
    "# Installations, imports, utils"
   ]
  },
  {
   "cell_type": "code",
   "execution_count": null,
   "metadata": {
    "_kg_hide-input": false,
    "_kg_hide-output": true,
    "execution": {
     "iopub.execute_input": "2024-08-10T13:32:56.898532Z",
     "iopub.status.busy": "2024-08-10T13:32:56.898215Z",
     "iopub.status.idle": "2024-08-10T13:35:45.79871Z",
     "shell.execute_reply": "2024-08-10T13:35:45.797269Z",
     "shell.execute_reply.started": "2024-08-10T13:32:56.898504Z"
    }
   },
   "outputs": [],
   "source": [
    "!pip install transformers==4.33.0 accelerate==0.22.0 einops==0.6.1 langchain==0.0.300 xformers==0.0.21 \\\n",
    "bitsandbytes==0.41.1 sentence_transformers==2.2.2 chromadb==0.4.12"
   ]
  },
  {
   "cell_type": "code",
   "execution_count": null,
   "metadata": {
    "_kg_hide-input": false,
    "_kg_hide-output": true,
    "execution": {
     "iopub.execute_input": "2024-08-10T13:35:45.801065Z",
     "iopub.status.busy": "2024-08-10T13:35:45.800737Z",
     "iopub.status.idle": "2024-08-10T13:35:52.841255Z",
     "shell.execute_reply": "2024-08-10T13:35:52.840494Z",
     "shell.execute_reply.started": "2024-08-10T13:35:45.801034Z"
    }
   },
   "outputs": [],
   "source": [
    "import sys\n",
    "from torch import cuda, bfloat16\n",
    "import torch\n",
    "import transformers\n",
    "from transformers import AutoTokenizer\n",
    "from time import time\n",
    "#import chromadb\n",
    "#from chromadb.config import Settings\n",
    "from langchain.llms import HuggingFacePipeline\n",
    "from langchain.document_loaders import PyPDFLoader\n",
    "from langchain.text_splitter import RecursiveCharacterTextSplitter\n",
    "from langchain.embeddings import HuggingFaceEmbeddings\n",
    "from langchain.chains import RetrievalQA\n",
    "from langchain.vectorstores import Chroma"
   ]
  },
  {
   "cell_type": "markdown",
   "metadata": {},
   "source": [
    "# Initialize model, tokenizer, query pipeline"
   ]
  },
  {
   "cell_type": "markdown",
   "metadata": {},
   "source": [
    "Define the model, the device, and the `bitsandbytes` configuration."
   ]
  },
  {
   "cell_type": "code",
   "execution_count": null,
   "metadata": {
    "_kg_hide-input": false,
    "execution": {
     "iopub.execute_input": "2024-08-10T13:35:52.842824Z",
     "iopub.status.busy": "2024-08-10T13:35:52.842383Z",
     "iopub.status.idle": "2024-08-10T13:35:52.911863Z",
     "shell.execute_reply": "2024-08-10T13:35:52.910884Z",
     "shell.execute_reply.started": "2024-08-10T13:35:52.842797Z"
    }
   },
   "outputs": [],
   "source": [
    "model_id = '/kaggle/input/llama-3/transformers/8b-chat-hf/1'\n",
    "\n",
    "device = f'cuda:{cuda.current_device()}' if cuda.is_available() else 'cpu'\n",
    "\n",
    "# set quantization configuration to load large model with less GPU memory\n",
    "# this requires the `bitsandbytes` library\n",
    "bnb_config = transformers.BitsAndBytesConfig(\n",
    "    load_in_4bit=True,\n",
    "    bnb_4bit_quant_type='nf4',\n",
    "    bnb_4bit_use_double_quant=True,\n",
    "    bnb_4bit_compute_dtype=bfloat16\n",
    ")\n",
    "\n",
    "print(device)"
   ]
  },
  {
   "cell_type": "markdown",
   "metadata": {},
   "source": [
    "Prepare the model and the tokenizer."
   ]
  },
  {
   "cell_type": "code",
   "execution_count": null,
   "metadata": {
    "_kg_hide-input": false,
    "execution": {
     "iopub.execute_input": "2024-08-10T13:35:52.915143Z",
     "iopub.status.busy": "2024-08-10T13:35:52.914386Z",
     "iopub.status.idle": "2024-08-10T13:37:42.451004Z",
     "shell.execute_reply": "2024-08-10T13:37:42.450023Z",
     "shell.execute_reply.started": "2024-08-10T13:35:52.915114Z"
    }
   },
   "outputs": [],
   "source": [
    "time_start = time()\n",
    "model_config = transformers.AutoConfig.from_pretrained(\n",
    "   model_id,\n",
    "    trust_remote_code=True,\n",
    "    max_new_tokens=1024\n",
    ")\n",
    "model = transformers.AutoModelForCausalLM.from_pretrained(\n",
    "    model_id,\n",
    "    trust_remote_code=True,\n",
    "    config=model_config,\n",
    "    quantization_config=bnb_config,\n",
    "    device_map='auto',\n",
    ")\n",
    "tokenizer = AutoTokenizer.from_pretrained(model_id)\n",
    "time_end = time()\n",
    "print(f\"Prepare model, tokenizer: {round(time_end-time_start, 3)} sec.\")"
   ]
  },
  {
   "cell_type": "markdown",
   "metadata": {},
   "source": [
    "Netx, we define the query pipeline.  \n",
    "In order to work correctly when we will define the HuggingFace pipeline, we will need to define here the max_length (to avoid falling back on the very short default length of `20`."
   ]
  },
  {
   "cell_type": "code",
   "execution_count": null,
   "metadata": {
    "_kg_hide-input": false,
    "execution": {
     "iopub.execute_input": "2024-08-10T13:37:42.452496Z",
     "iopub.status.busy": "2024-08-10T13:37:42.452191Z",
     "iopub.status.idle": "2024-08-10T13:37:44.31962Z",
     "shell.execute_reply": "2024-08-10T13:37:44.318659Z",
     "shell.execute_reply.started": "2024-08-10T13:37:42.452442Z"
    }
   },
   "outputs": [],
   "source": [
    "time_start = time()\n",
    "query_pipeline = transformers.pipeline(\n",
    "        \"text-generation\",\n",
    "        model=model,\n",
    "        tokenizer=tokenizer,\n",
    "        torch_dtype=torch.float16,\n",
    "        max_length=1024,\n",
    "        device_map=\"auto\",)\n",
    "time_end = time()\n",
    "print(f\"Prepare pipeline: {round(time_end-time_start, 3)} sec.\")"
   ]
  },
  {
   "cell_type": "markdown",
   "metadata": {},
   "source": [
    "We define a function for testing the pipeline."
   ]
  },
  {
   "cell_type": "code",
   "execution_count": null,
   "metadata": {
    "_kg_hide-input": false,
    "execution": {
     "iopub.execute_input": "2024-08-10T13:37:44.321413Z",
     "iopub.status.busy": "2024-08-10T13:37:44.321045Z",
     "iopub.status.idle": "2024-08-10T13:37:44.328068Z",
     "shell.execute_reply": "2024-08-10T13:37:44.32707Z",
     "shell.execute_reply.started": "2024-08-10T13:37:44.321378Z"
    }
   },
   "outputs": [],
   "source": [
    "def test_model(tokenizer, pipeline, message):\n",
    "    \"\"\"\n",
    "    Perform a query\n",
    "    print the result\n",
    "    Args:\n",
    "        tokenizer: the tokenizer\n",
    "        pipeline: the pipeline\n",
    "        message: the prompt\n",
    "    Returns\n",
    "        None\n",
    "    \"\"\"    \n",
    "    time_start = time()\n",
    "    sequences = pipeline(\n",
    "        message,\n",
    "        do_sample=True,\n",
    "        top_k=10,\n",
    "        num_return_sequences=1,\n",
    "        eos_token_id=tokenizer.eos_token_id,\n",
    "        max_length=200,)\n",
    "    time_end = time()\n",
    "    total_time = f\"{round(time_end-time_start, 3)} sec.\"\n",
    "    \n",
    "    question = sequences[0]['generated_text'][:len(message)]\n",
    "    answer = sequences[0]['generated_text'][len(message):]\n",
    "    \n",
    "    return f\"Question: {question}\\nAnswer: {answer}\\nTotal time: {total_time}\"\n"
   ]
  },
  {
   "cell_type": "markdown",
   "metadata": {},
   "source": [
    "## Test the query pipeline\n",
    "\n",
    "We test the pipeline with few queries about European Union Artificial Intelligence Act (EU AI Act)."
   ]
  },
  {
   "cell_type": "markdown",
   "metadata": {},
   "source": [
    "We also define here an utility function. This function will be used to display the output from the answer of the LLM.  \n",
    "We include the calculation time, the question and the answer, formated so that will be easy to recognise them."
   ]
  },
  {
   "cell_type": "code",
   "execution_count": null,
   "metadata": {
    "execution": {
     "iopub.execute_input": "2024-08-10T13:37:44.329561Z",
     "iopub.status.busy": "2024-08-10T13:37:44.329216Z",
     "iopub.status.idle": "2024-08-10T13:37:44.350668Z",
     "shell.execute_reply": "2024-08-10T13:37:44.349747Z",
     "shell.execute_reply.started": "2024-08-10T13:37:44.32953Z"
    }
   },
   "outputs": [],
   "source": [
    "from IPython.display import display, Markdown\n",
    "def colorize_text(text):\n",
    "    for word, color in zip([\"Reasoning\", \"Question\", \"Answer\", \"Total time\"], [\"blue\", \"red\", \"green\", \"magenta\"]):\n",
    "        text = text.replace(f\"{word}:\", f\"\\n\\n**<font color='{color}'>{word}:</font>**\")\n",
    "    return text"
   ]
  },
  {
   "cell_type": "markdown",
   "metadata": {},
   "source": [
    "Let's test now the pipeline with few queries."
   ]
  },
  {
   "cell_type": "code",
   "execution_count": null,
   "metadata": {
    "_kg_hide-input": false,
    "execution": {
     "iopub.execute_input": "2024-08-10T13:37:44.352135Z",
     "iopub.status.busy": "2024-08-10T13:37:44.351833Z",
     "iopub.status.idle": "2024-08-10T13:38:04.753936Z",
     "shell.execute_reply": "2024-08-10T13:38:04.75302Z",
     "shell.execute_reply.started": "2024-08-10T13:37:44.352105Z"
    }
   },
   "outputs": [],
   "source": [
    "response = test_model(tokenizer,\n",
    "                    query_pipeline,\n",
    "                   \"Please explain what is EU AI Act.\")\n",
    "display(Markdown(colorize_text(response)))"
   ]
  },
  {
   "cell_type": "code",
   "execution_count": null,
   "metadata": {
    "execution": {
     "iopub.execute_input": "2024-08-10T13:38:04.755443Z",
     "iopub.status.busy": "2024-08-10T13:38:04.755176Z",
     "iopub.status.idle": "2024-08-10T13:38:20.256786Z",
     "shell.execute_reply": "2024-08-10T13:38:20.255827Z",
     "shell.execute_reply.started": "2024-08-10T13:38:04.755419Z"
    }
   },
   "outputs": [],
   "source": [
    "response = test_model(tokenizer,\n",
    "                    query_pipeline,\n",
    "                   \"In the context of EU AI Act, how is performed the testing of high-risk AI systems in real world conditions?\")\n",
    "display(Markdown(colorize_text(response)))"
   ]
  },
  {
   "cell_type": "markdown",
   "metadata": {},
   "source": [
    "The answer is not really useful. Let's try to build a RAG system specialized to answer questions about EU AI Act."
   ]
  },
  {
   "cell_type": "markdown",
   "metadata": {},
   "source": [
    "# Retrieval Augmented Generation\n",
    "\n",
    "In order to build the RAG system, we will perform the following steps:\n",
    "* Test the model using a HuggingFacePipeline;  \n",
    "* Ingest the document using PyPdfLoader;\n",
    "* Chunk the documents (with chunk size 1000), making sure we have also a partial overlap (of 100 characters);  \n",
    "* Create embeddings and ingest the transformed text (text from pdf, chunked with overlap, embedded, and indexed) in the vector database;  \n",
    "* Create the RequestQA pipeline (that includes the retrieval step and the generation step)."
   ]
  },
  {
   "cell_type": "markdown",
   "metadata": {
    "execution": {
     "iopub.execute_input": "2023-09-23T19:22:16.434937Z",
     "iopub.status.busy": "2023-09-23T19:22:16.433666Z",
     "iopub.status.idle": "2023-09-23T19:22:16.440864Z",
     "shell.execute_reply": "2023-09-23T19:22:16.439217Z",
     "shell.execute_reply.started": "2023-09-23T19:22:16.434891Z"
    }
   },
   "source": [
    "## Check the model with a HuggingFace pipeline\n",
    "\n",
    "\n",
    "We check the model with a HF pipeline, using a query about the meaning of EU AI Act. We will need to use the HuggingFacePipeline in order to integrate easier with the Langchain tasks."
   ]
  },
  {
   "cell_type": "code",
   "execution_count": null,
   "metadata": {
    "_kg_hide-input": false,
    "execution": {
     "iopub.execute_input": "2024-08-10T13:38:20.26138Z",
     "iopub.status.busy": "2024-08-10T13:38:20.260697Z",
     "iopub.status.idle": "2024-08-10T13:39:46.423943Z",
     "shell.execute_reply": "2024-08-10T13:39:46.42302Z",
     "shell.execute_reply.started": "2024-08-10T13:38:20.261351Z"
    }
   },
   "outputs": [],
   "source": [
    "llm = HuggingFacePipeline(pipeline=query_pipeline)\n",
    "\n",
    "# checking again that everything is working fine\n",
    "time_start = time()\n",
    "question = \"Please explain what EU AI Act is.\"\n",
    "response = llm(prompt=question)\n",
    "time_end = time()\n",
    "total_time = f\"{round(time_end-time_start, 3)} sec.\"\n",
    "full_response =  f\"Question: {question}\\nAnswer: {response}\\nTotal time: {total_time}\"\n",
    "display(Markdown(colorize_text(full_response)))"
   ]
  },
  {
   "cell_type": "markdown",
   "metadata": {},
   "source": [
    "## Ingestion of data using PyPDFLoader\n",
    "\n",
    "We will ingest the EU AI Act data using the PyPDFLoader from Langchain. There are actually multiple PDF ingestion utilities, we selected this one since it is easy to use."
   ]
  },
  {
   "cell_type": "code",
   "execution_count": null,
   "metadata": {
    "_kg_hide-input": false,
    "execution": {
     "iopub.execute_input": "2024-08-10T13:39:46.425436Z",
     "iopub.status.busy": "2024-08-10T13:39:46.42516Z",
     "iopub.status.idle": "2024-08-10T13:40:04.661649Z",
     "shell.execute_reply": "2024-08-10T13:40:04.66064Z",
     "shell.execute_reply.started": "2024-08-10T13:39:46.425412Z"
    }
   },
   "outputs": [],
   "source": [
    "loader = PyPDFLoader(\"/kaggle/input/eu-ai-act-complete-text/aiact_final_draft.pdf\")\n",
    "documents = loader.load()"
   ]
  },
  {
   "cell_type": "markdown",
   "metadata": {},
   "source": [
    "## Split data in chunks\n",
    "\n",
    "We split data in chunks using a recursive character text splitter.  \n",
    "\n",
    "Note: You can experiment with several values of chunk_size and chunk_overlap. Here we will set the following values:\n",
    "* chunk_size: 1000 (this gives the size of a chunk, in characters). \n",
    "* chunk_overlap: 100 (this gives the number of characters with which two succesive chunks overlap).  \n",
    "\n",
    "Chunk overlapping is required in order to be able to keep the context, even if we have a concept that we want to include that is spread over multiple document chunks.\n"
   ]
  },
  {
   "cell_type": "code",
   "execution_count": null,
   "metadata": {
    "_kg_hide-input": false,
    "execution": {
     "iopub.execute_input": "2024-08-10T13:40:04.663178Z",
     "iopub.status.busy": "2024-08-10T13:40:04.662871Z",
     "iopub.status.idle": "2024-08-10T13:40:04.742629Z",
     "shell.execute_reply": "2024-08-10T13:40:04.741838Z",
     "shell.execute_reply.started": "2024-08-10T13:40:04.663152Z"
    }
   },
   "outputs": [],
   "source": [
    "text_splitter = RecursiveCharacterTextSplitter(chunk_size=1000, chunk_overlap=100)\n",
    "all_splits = text_splitter.split_documents(documents)"
   ]
  },
  {
   "cell_type": "markdown",
   "metadata": {},
   "source": [
    "## Creating Embeddings and Storing in Vector Store"
   ]
  },
  {
   "cell_type": "markdown",
   "metadata": {},
   "source": [
    "Create the embeddings using Sentence Transformer and HuggingFace embeddings.  \n",
    "Ocasionally, HuggingFace sentence-transformers might not be available. We implement therefore a mechanism to work with local stored sentence transformers."
   ]
  },
  {
   "cell_type": "code",
   "execution_count": null,
   "metadata": {
    "_kg_hide-input": false,
    "execution": {
     "iopub.execute_input": "2024-08-10T13:40:04.74407Z",
     "iopub.status.busy": "2024-08-10T13:40:04.743775Z",
     "iopub.status.idle": "2024-08-10T13:40:13.881684Z",
     "shell.execute_reply": "2024-08-10T13:40:13.880657Z",
     "shell.execute_reply.started": "2024-08-10T13:40:04.744045Z"
    }
   },
   "outputs": [],
   "source": [
    "\n",
    "model_name = \"sentence-transformers/all-mpnet-base-v2\"\n",
    "model_kwargs = {\"device\": \"cuda\"}\n",
    "\n",
    "# try to access the sentence transformers from HuggingFace: https://huggingface.co/api/models/sentence-transformers/all-mpnet-base-v2\n",
    "try:\n",
    "    embeddings = HuggingFaceEmbeddings(model_name=model_name, model_kwargs=model_kwargs)\n",
    "except Exception as ex:\n",
    "    print(\"Exception: \", ex)\n",
    "    # alternatively, we will access the embeddings models locally\n",
    "    local_model_path = \"/kaggle/input/sentence-transformers/minilm-l6-v2/all-MiniLM-L6-v2\"\n",
    "    print(f\"Use alternative (local) model: {local_model_path}\\n\")\n",
    "    embeddings = HuggingFaceEmbeddings(model_name=local_model_path, model_kwargs=model_kwargs)"
   ]
  },
  {
   "cell_type": "markdown",
   "metadata": {},
   "source": [
    "Initialize ChromaDB with the document splits, the embeddings defined previously and with the option to persist it locally.  \n",
    "We make sure to use the persistence option for the vector database."
   ]
  },
  {
   "cell_type": "code",
   "execution_count": null,
   "metadata": {
    "_kg_hide-input": false,
    "execution": {
     "iopub.execute_input": "2024-08-10T13:40:13.883311Z",
     "iopub.status.busy": "2024-08-10T13:40:13.883004Z",
     "iopub.status.idle": "2024-08-10T13:40:23.217795Z",
     "shell.execute_reply": "2024-08-10T13:40:23.216957Z",
     "shell.execute_reply.started": "2024-08-10T13:40:13.883282Z"
    }
   },
   "outputs": [],
   "source": [
    "vectordb = Chroma.from_documents(documents=all_splits, embedding=embeddings, persist_directory=\"chroma_db\")"
   ]
  },
  {
   "cell_type": "markdown",
   "metadata": {},
   "source": [
    "## Initialize chain   \n",
    "\n",
    "We are using `RetrievalQA` task chain utility from Langchain.  \n",
    "This will first query the vector database (using similarity search) with the prompt we are using.   \n",
    "Then, the query and the context retrieved (the documents that match with the query) are used to compose a prompt that instructs the LLM to answer to the query (**Generation**) using the information from the context retrieved (**Retrieval**). Therefore the name of the system, `Retrieval Augmented Generation`. \n"
   ]
  },
  {
   "cell_type": "code",
   "execution_count": null,
   "metadata": {
    "_kg_hide-input": false,
    "execution": {
     "iopub.execute_input": "2024-08-10T13:40:23.219606Z",
     "iopub.status.busy": "2024-08-10T13:40:23.219296Z",
     "iopub.status.idle": "2024-08-10T13:40:23.224672Z",
     "shell.execute_reply": "2024-08-10T13:40:23.223632Z",
     "shell.execute_reply.started": "2024-08-10T13:40:23.219578Z"
    }
   },
   "outputs": [],
   "source": [
    "retriever = vectordb.as_retriever()\n",
    "\n",
    "qa = RetrievalQA.from_chain_type(\n",
    "    llm=llm, \n",
    "    chain_type=\"stuff\", \n",
    "    retriever=retriever, \n",
    "    verbose=True\n",
    ")"
   ]
  },
  {
   "cell_type": "markdown",
   "metadata": {},
   "source": [
    "## Test the Retrieval-Augmented Generation \n",
    "\n",
    "\n",
    "We define a test function, that will run the query and time it."
   ]
  },
  {
   "cell_type": "code",
   "execution_count": null,
   "metadata": {
    "_kg_hide-input": false,
    "execution": {
     "iopub.execute_input": "2024-08-10T13:40:23.226202Z",
     "iopub.status.busy": "2024-08-10T13:40:23.225916Z",
     "iopub.status.idle": "2024-08-10T13:40:23.238299Z",
     "shell.execute_reply": "2024-08-10T13:40:23.237351Z",
     "shell.execute_reply.started": "2024-08-10T13:40:23.226177Z"
    }
   },
   "outputs": [],
   "source": [
    "def test_rag(qa, query):\n",
    "    \"\"\"\n",
    "    Test the Retrieval Augmented Generation (RAG) system.\n",
    "    \n",
    "    Args:\n",
    "        qa (RetrievalQA.from_chain_type): Langchain function to perform RAG\n",
    "        query (str): query for the RAG system\n",
    "    Returns:\n",
    "        None\n",
    "    \"\"\"\n",
    "\n",
    "    time_start = time()\n",
    "    response = qa.run(query)\n",
    "    time_end = time()\n",
    "    total_time = f\"{round(time_end-time_start, 3)} sec.\"\n",
    "\n",
    "    full_response =  f\"Question: {query}\\nAnswer: {response}\\nTotal time: {total_time}\"\n",
    "    display(Markdown(colorize_text(full_response)))"
   ]
  },
  {
   "cell_type": "markdown",
   "metadata": {},
   "source": [
    "Let's check few queries."
   ]
  },
  {
   "cell_type": "code",
   "execution_count": null,
   "metadata": {
    "_kg_hide-input": false,
    "execution": {
     "iopub.execute_input": "2024-08-10T13:40:23.241104Z",
     "iopub.status.busy": "2024-08-10T13:40:23.240166Z",
     "iopub.status.idle": "2024-08-10T13:40:52.726296Z",
     "shell.execute_reply": "2024-08-10T13:40:52.725327Z",
     "shell.execute_reply.started": "2024-08-10T13:40:23.24107Z"
    }
   },
   "outputs": [],
   "source": [
    "query = \"How is performed the testing of high-risk AI systems in real world conditions?\"\n",
    "test_rag(qa, query)"
   ]
  },
  {
   "cell_type": "code",
   "execution_count": null,
   "metadata": {
    "execution": {
     "iopub.execute_input": "2024-08-10T13:40:52.727819Z",
     "iopub.status.busy": "2024-08-10T13:40:52.72751Z",
     "iopub.status.idle": "2024-08-10T13:41:18.629802Z",
     "shell.execute_reply": "2024-08-10T13:41:18.628789Z",
     "shell.execute_reply.started": "2024-08-10T13:40:52.72779Z"
    }
   },
   "outputs": [],
   "source": [
    "query = \"What are the operational obligations of notified bodies?\"\n",
    "test_rag(qa, query)"
   ]
  },
  {
   "cell_type": "code",
   "execution_count": null,
   "metadata": {
    "execution": {
     "iopub.execute_input": "2024-08-10T13:41:18.631622Z",
     "iopub.status.busy": "2024-08-10T13:41:18.631239Z",
     "iopub.status.idle": "2024-08-10T13:42:21.568889Z",
     "shell.execute_reply": "2024-08-10T13:42:21.567939Z",
     "shell.execute_reply.started": "2024-08-10T13:41:18.631587Z"
    }
   },
   "outputs": [],
   "source": [
    "query = \"What are the unacceptable risks?\"\n",
    "test_rag(qa, query)"
   ]
  },
  {
   "cell_type": "code",
   "execution_count": null,
   "metadata": {
    "execution": {
     "iopub.execute_input": "2024-08-10T13:42:21.570414Z",
     "iopub.status.busy": "2024-08-10T13:42:21.570108Z",
     "iopub.status.idle": "2024-08-10T13:42:58.546285Z",
     "shell.execute_reply": "2024-08-10T13:42:58.545345Z",
     "shell.execute_reply.started": "2024-08-10T13:42:21.570387Z"
    }
   },
   "outputs": [],
   "source": [
    "query = \"In what cases a company that develops AI solutions should obtain permission to deploy it?\"\n",
    "test_rag(qa, query)"
   ]
  },
  {
   "cell_type": "markdown",
   "metadata": {},
   "source": [
    "## Document sources\n",
    "\n",
    "Let's check the documents sources, for the last query run.  \n",
    "\n",
    "In order to do this, we will perform the following steps:\n",
    "* We run a similarity search in the vector database;\n",
    "* We loop through the documents returned; \n",
    "* Print, for each document, the documents source, from the metadata, and the page content.\n"
   ]
  },
  {
   "cell_type": "code",
   "execution_count": null,
   "metadata": {
    "_kg_hide-input": false,
    "_kg_hide-output": true,
    "execution": {
     "iopub.execute_input": "2024-08-10T13:44:28.372205Z",
     "iopub.status.busy": "2024-08-10T13:44:28.371263Z",
     "iopub.status.idle": "2024-08-10T13:44:28.417314Z",
     "shell.execute_reply": "2024-08-10T13:44:28.416369Z",
     "shell.execute_reply.started": "2024-08-10T13:44:28.372168Z"
    }
   },
   "outputs": [],
   "source": [
    "docs = vectordb.similarity_search(query)\n",
    "print(f\"Query: {query}\")\n",
    "print(f\"Retrieved documents: {len(docs)}\")\n",
    "for doc in docs:\n",
    "    doc_details = doc.to_json()['kwargs']\n",
    "    print(\"Source: \", doc_details['metadata']['source'])\n",
    "    print(\"Text: \", doc_details['page_content'], \"\\n\")"
   ]
  },
  {
   "cell_type": "markdown",
   "metadata": {},
   "source": [
    "# Conclusions\n",
    "\n",
    "\n",
    "We used Langchain, ChromaDB and Llama3 as a LLM to build a Retrieval Augmented Generation solution. For testing, we were using the EU AI Act from 2023.  \n",
    "The answers to questions from EU AI Act are correct, when using a RAG model.  \n",
    "\n",
    "To improve the solution, we will have to refine the RAG implementation, first by optimizing the embeddings, then by using more complex RAG schemes.\n",
    "\n",
    "\n",
    "\n"
   ]
  }
 ],
 "metadata": {
  "hide_input": false,
  "kaggle": {
   "accelerator": "gpu",
   "dataSources": [
    {
     "datasetId": 2740486,
     "sourceId": 4737381,
     "sourceType": "datasetVersion"
    },
    {
     "datasetId": 4617783,
     "sourceId": 7870110,
     "sourceType": "datasetVersion"
    },
    {
     "isSourceIdPinned": true,
     "modelId": 39106,
     "modelInstanceId": 28083,
     "sourceId": 33551,
     "sourceType": "modelInstanceVersion"
    }
   ],
   "dockerImageVersionId": 30559,
   "isGpuEnabled": true,
   "isInternetEnabled": true,
   "language": "python",
   "sourceType": "notebook"
  },
  "kernelspec": {
   "display_name": "Python 3 (ipykernel)",
   "language": "python",
   "name": "python3"
  },
  "language_info": {
   "codemirror_mode": {
    "name": "ipython",
    "version": 3
   },
   "file_extension": ".py",
   "mimetype": "text/x-python",
   "name": "python",
   "nbconvert_exporter": "python",
   "pygments_lexer": "ipython3",
   "version": "3.11.8"
  },
  "toc": {
   "base_numbering": 1,
   "nav_menu": {},
   "number_sections": true,
   "sideBar": true,
   "skip_h1_title": false,
   "title_cell": "Table of Contents",
   "title_sidebar": "Contents",
   "toc_cell": false,
   "toc_position": {},
   "toc_section_display": true,
   "toc_window_display": false
  }
 },
 "nbformat": 4,
 "nbformat_minor": 4
}
